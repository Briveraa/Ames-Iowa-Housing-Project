{
 "cells": [
  {
   "cell_type": "code",
   "execution_count": 1,
   "id": "7f760f1e-d5c3-41fb-850c-6ad6849fae21",
   "metadata": {},
   "outputs": [],
   "source": [
    "## imports\n",
    "import pandas as pd\n",
    "import numpy as np\n",
    "import matplotlib.pyplot as plt\n",
    "import seaborn as sns\n",
    "\n",
    "from sklearn.model_selection import train_test_split, cross_val_score\n",
    "from sklearn.linear_model import LinearRegression\n",
    "from sklearn.metrics import mean_squared_error\n",
    "\n",
    "from sklearn.preprocessing import StandardScaler\n",
    "from sklearn.linear_model import LassoCV\n",
    "from sklearn.linear_model import RidgeCV"
   ]
  },
  {
   "cell_type": "code",
   "execution_count": 5,
   "id": "539cd27b-c9b4-47fc-ae92-14e39221907b",
   "metadata": {},
   "outputs": [],
   "source": [
    "## loading testing and training dataframes\n",
    "train_df = pd.read_csv('../data/complete_test_df')\n",
    "test_df = pd.read_csv('../data/complete_train_df')"
   ]
  },
  {
   "cell_type": "code",
   "execution_count": null,
   "id": "ba0a177a-2d01-490b-afca-3bbca97c743a",
   "metadata": {},
   "outputs": [],
   "source": [
    "## set Id column to be our new index for both train and test set\n",
    "train_df.set_index(\"Id\", inplace=True)\n",
    "test_df.set_index(\"Id\", inplace=True)"
   ]
  },
  {
   "cell_type": "code",
   "execution_count": null,
   "id": "f0ae6ba5-b28a-41b1-8248-c78d0d83111d",
   "metadata": {},
   "outputs": [],
   "source": [
    "train_df.head()"
   ]
  },
  {
   "cell_type": "markdown",
   "id": "38b95af3-72ba-4a4b-828c-3e31de0bbef0",
   "metadata": {},
   "source": [
    "### First Model: Linear Regression"
   ]
  },
  {
   "cell_type": "code",
   "execution_count": null,
   "id": "f8366cff-bccd-4dcf-871a-ce81c61fed5d",
   "metadata": {},
   "outputs": [],
   "source": [
    "X = train_df.drop(columns=['saleprice'])\n",
    "y = train_df['saleprice']\n",
    "\n",
    "X_train, X_test, y_train, y_test = train_test_split(X, y, test_size=0.3, random_state=2021)"
   ]
  },
  {
   "cell_type": "code",
   "execution_count": null,
   "id": "d69bbd11-b832-4062-8579-f05020495fe4",
   "metadata": {},
   "outputs": [],
   "source": [
    "## scaling the data for LASSO and Ridge models\n",
    "sc = StandardScaler()\n",
    "\n",
    "Z_train = sc.fit_transform(X_train)\n",
    "Z_test = sc.fit_transform(X_test)"
   ]
  },
  {
   "cell_type": "code",
   "execution_count": null,
   "id": "b9298121-8e50-475b-9536-6de6b0f68fb2",
   "metadata": {},
   "outputs": [],
   "source": [
    "lr = LinearRegression()\n",
    "lr.fit(X_train, y_train)"
   ]
  },
  {
   "cell_type": "code",
   "execution_count": null,
   "id": "5359b5c6-5078-4793-ab0f-e2dacdfb8528",
   "metadata": {},
   "outputs": [],
   "source": [
    "print(f'Training score: {lr.score(X_train, y_train)}')"
   ]
  },
  {
   "cell_type": "code",
   "execution_count": null,
   "id": "a0c9d8ad-a283-4fbf-a34c-abd09da249ff",
   "metadata": {},
   "outputs": [],
   "source": [
    "print(f'Testing score: {lr.score(X_test, y_test)}')"
   ]
  },
  {
   "cell_type": "code",
   "execution_count": null,
   "id": "39fa0502-e90c-4c66-932a-569ee427f2b4",
   "metadata": {},
   "outputs": [],
   "source": [
    "## predictions for training and testing data split from training DF\n",
    "train_preds = lr.predict(X_train)\n",
    "test_preds  = lr.predict(X_test)"
   ]
  },
  {
   "cell_type": "code",
   "execution_count": null,
   "id": "1ef9c247-d81c-4838-9655-a3c7fa2f9bb1",
   "metadata": {},
   "outputs": [],
   "source": [
    "## calculating RMSE for training and testing data split from training DF\n",
    "print(f'RMSE for training: {mean_squared_error(y_train, train_preds, squared=False)}')"
   ]
  },
  {
   "cell_type": "code",
   "execution_count": null,
   "id": "05e7fdd0-037d-4db3-beb6-1a3ba6371c55",
   "metadata": {},
   "outputs": [],
   "source": [
    "print(f'RMSE for testing: {mean_squared_error(y_test, test_preds, squared=False)}')"
   ]
  },
  {
   "cell_type": "code",
   "execution_count": null,
   "id": "597a25b4-5f76-4b29-91af-51ac80af047f",
   "metadata": {},
   "outputs": [],
   "source": [
    "cross_val_score(lr, X,y).mean()"
   ]
  },
  {
   "cell_type": "code",
   "execution_count": null,
   "id": "ad301d76-8151-4d25-b67d-691db6a6b595",
   "metadata": {},
   "outputs": [],
   "source": [
    "lr.coef_"
   ]
  },
  {
   "cell_type": "code",
   "execution_count": null,
   "id": "5070e4c9-8ca2-402f-97d7-9cde5a35e77a",
   "metadata": {
    "scrolled": true,
    "tags": []
   },
   "outputs": [],
   "source": [
    "## creating coeff dataframe\n",
    "\n",
    "lr_coef = pd.DataFrame({\n",
    "    \"column_name\": X.columns,\n",
    "    \"coef\": lr.coef_,\n",
    "    \"abs_coef\": abs(lr.coef_)\n",
    "})\n",
    "\n",
    "lr_coef"
   ]
  },
  {
   "cell_type": "code",
   "execution_count": null,
   "id": "5f5a6e4e-9901-464d-be3a-662ba3f7c1a2",
   "metadata": {},
   "outputs": [],
   "source": [
    "# Plot top 30 features (sorted by absolute regression coefficient)\n",
    "plt.figure(figsize=(12,10))\n",
    "data = lr_coef.sort_values(by='abs_coef', ascending=False).head(30)[['column_name', 'coef']] \\\n",
    "               .sort_values(by='coef', ascending=False).reset_index(drop=True)\n",
    "    \n",
    "ax = sns.barplot(data=lr_coef, y='column_name', x='coef', orient='h', palette='Spectral')\n",
    "ax.set_ylabel('')\n",
    "ax.set_yticklabels(lr_coef['column_name'], size=11)\n",
    "ax.set_xlabel('Linear Regression Coefficient', fontsize=14)\n",
    "plt.title('Top 30 Housing Features', fontsize=20);"
   ]
  },
  {
   "cell_type": "code",
   "execution_count": null,
   "id": "4d54cdd9-25f1-494c-a4c8-67c7b59858ad",
   "metadata": {},
   "outputs": [],
   "source": [
    "## plotting residuals: y- y_hat\n",
    "plt.scatter(train_preds, train_preds - y_train, c = \"green\", marker = \"o\", label = \"Training data\", alpha=0.6)\n",
    "plt.scatter(test_preds, test_preds - y_test, c = \"orange\", marker = \"o\", label = \"Testing data\", alpha=0.6)\n",
    "plt.title(\"Linear regression\")\n",
    "plt.xlabel(\"Predicted values\")\n",
    "plt.ylabel(\"Residuals\")\n",
    "plt.legend(loc = \"upper left\")\n",
    "plt.hlines(y = 0, xmin = 0, xmax = 500_000, color = \"red\");"
   ]
  },
  {
   "cell_type": "code",
   "execution_count": null,
   "id": "6dc502d2-fd70-4714-9d29-c1a87d14d67d",
   "metadata": {},
   "outputs": [],
   "source": [
    "## plotting predicted values vs actual values\n",
    "\n",
    "sns.regplot(data=X_train, x=test_preds, y=y_test, marker='o', color='orange', line_kws={'color':'red'})\n",
    "plt.xlabel('Predicted Sale Price', fontsize=14)\n",
    "plt.ylabel('Actual Sale Price', fontsize=14)\n",
    "plt.title('Predictions of Sale Price vs Actual Sale Price', fontsize=15);"
   ]
  },
  {
   "cell_type": "markdown",
   "id": "0db446a2-32da-42a5-bf5d-d8deea8901f9",
   "metadata": {
    "tags": []
   },
   "source": [
    "### Ridge Model"
   ]
  },
  {
   "cell_type": "code",
   "execution_count": null,
   "id": "d1561633-1f37-4c79-87a5-b306672b330d",
   "metadata": {},
   "outputs": [],
   "source": [
    "## creat a list of alphas to check \n",
    "ridge_alpha = np.logspace(0,3,100)\n",
    "\n",
    "## cross validate over our list of alphas\n",
    "ridge_cv = RidgeCV(alphas = ridge_alpha, scoring = 'r2', cv =5)\n",
    "\n",
    "## fit model using best ridge alpha\n",
    "ridge_cv.fit(Z_train, y_train)"
   ]
  },
  {
   "cell_type": "code",
   "execution_count": null,
   "id": "ca72fd3a-bf82-4f78-b7c1-22e01daa6c7c",
   "metadata": {},
   "outputs": [],
   "source": [
    "## checking for the optimal alpha value\n",
    "ridge_cv.alpha_"
   ]
  },
  {
   "cell_type": "code",
   "execution_count": null,
   "id": "80557dce-923e-47dd-a2e9-8686fa6b7c27",
   "metadata": {},
   "outputs": [],
   "source": [
    "##checking r2 scores for training\n",
    "ridge_cv.score(Z_train, y_train)"
   ]
  },
  {
   "cell_type": "code",
   "execution_count": null,
   "id": "54b331b0-840b-4146-9294-53fc879ca511",
   "metadata": {},
   "outputs": [],
   "source": [
    "##checking r2 scores for testing\n",
    "ridge_cv.score(Z_test, y_test)"
   ]
  },
  {
   "cell_type": "code",
   "execution_count": null,
   "id": "11930420-393e-4a34-a2bb-e9276f8ff1f7",
   "metadata": {},
   "outputs": [],
   "source": [
    "ridge_cv.best_score_"
   ]
  },
  {
   "cell_type": "code",
   "execution_count": null,
   "id": "6f07d2ee-aa4d-4f0c-aa77-0fa99293329a",
   "metadata": {},
   "outputs": [],
   "source": [
    "z_preds_test = ridge_cv.predict(Z_test)\n",
    "z_preds_train = ridge_cv.predict(Z_train)"
   ]
  },
  {
   "cell_type": "code",
   "execution_count": null,
   "id": "b5d91a71-3c71-43d2-8603-3c7b7a7741c2",
   "metadata": {},
   "outputs": [],
   "source": [
    "print(f'RMSE for training: {mean_squared_error(y_train, z_preds_train, squared=False)}')"
   ]
  },
  {
   "cell_type": "code",
   "execution_count": 6,
   "id": "7194a7a7-803e-4fe8-9231-47e06b717521",
   "metadata": {},
   "outputs": [
    {
     "ename": "NameError",
     "evalue": "name 'y_test' is not defined",
     "output_type": "error",
     "traceback": [
      "\u001b[0;31m---------------------------------------------------------------------------\u001b[0m",
      "\u001b[0;31mNameError\u001b[0m                                 Traceback (most recent call last)",
      "\u001b[0;32m/var/folders/nb/q3q3zfsd19q43ntlzbsrbd3h0000gn/T/ipykernel_79885/2436864808.py\u001b[0m in \u001b[0;36m<module>\u001b[0;34m\u001b[0m\n\u001b[0;32m----> 1\u001b[0;31m \u001b[0mprint\u001b[0m\u001b[0;34m(\u001b[0m\u001b[0;34mf'RMSE for testing: {mean_squared_error(y_test, z_preds_test, squared=False)}'\u001b[0m\u001b[0;34m)\u001b[0m\u001b[0;34m\u001b[0m\u001b[0;34m\u001b[0m\u001b[0m\n\u001b[0m",
      "\u001b[0;31mNameError\u001b[0m: name 'y_test' is not defined"
     ]
    }
   ],
   "source": [
    "print(f'RMSE for testing: {mean_squared_error(y_test, z_preds_test, squared=False)}')"
   ]
  },
  {
   "cell_type": "code",
   "execution_count": null,
   "id": "ec80dc22-e8db-4816-8a00-bc9831467b6e",
   "metadata": {},
   "outputs": [],
   "source": [
    "## plotting residuals: y- y_hat\n",
    "plt.figure(figsize=(8,8))\n",
    "plt.scatter(z_preds_train, z_preds_train - y_train, c = \"green\", marker = \"o\", label = \"Training data\", alpha=0.6)\n",
    "plt.scatter(z_preds_test, z_preds_test - y_test, c = \"orange\", marker = \"o\", label = \"Testing data\", alpha=0.6)\n",
    "plt.title(\"Linear regression with Ridge\")\n",
    "plt.xlabel(\"Predicted values\")\n",
    "plt.ylabel(\"Residuals\")\n",
    "plt.legend(loc = \"upper left\")\n",
    "plt.hlines(y = 0, xmin = 0, xmax = 700_000,color = \"red\");"
   ]
  },
  {
   "cell_type": "code",
   "execution_count": null,
   "id": "71571a4f-e025-46e5-8100-44e19e196614",
   "metadata": {},
   "outputs": [],
   "source": [
    "## plotting predicted values vs actual values\n",
    "\n",
    "plt.figure(figsize=(8,8))\n",
    "sns.regplot(data=X, x=z_preds_test, y=y_test, marker='o', color='orange', line_kws={'color':'red'})\n",
    "plt.xlabel('Predicted Sale Price', fontsize=14)\n",
    "plt.ylabel('Actual Sale Price', fontsize=14)\n",
    "plt.title('Predictions of Sale Price vs Actual Sale Price', fontsize=20);"
   ]
  },
  {
   "cell_type": "markdown",
   "id": "1eb1dc36-3002-4806-b657-b6620ef34a35",
   "metadata": {},
   "source": [
    "### LASSO Model"
   ]
  },
  {
   "cell_type": "code",
   "execution_count": null,
   "id": "975cc019-f49f-49ae-94b2-c467a05fc021",
   "metadata": {},
   "outputs": [],
   "source": [
    "lasso_alphas = np.logspace(-3,0,100)\n",
    "lasso_cv = LassoCV(alphas= lasso_alphas, cv =5, max_iter = 10_000_000, tol = 0.000000000001)\n",
    "\n",
    "lasso_cv.fit(Z_train,y_train)"
   ]
  },
  {
   "cell_type": "code",
   "execution_count": null,
   "id": "9537234a-6bd1-41c2-b5a3-f21e54cc81ff",
   "metadata": {},
   "outputs": [],
   "source": [
    "lasso_cv.alpha_"
   ]
  },
  {
   "cell_type": "code",
   "execution_count": null,
   "id": "ba6f05cc-e078-4132-9154-55503bff0b48",
   "metadata": {},
   "outputs": [],
   "source": [
    "lasso_cv.score(Z_train, y_train)"
   ]
  },
  {
   "cell_type": "code",
   "execution_count": null,
   "id": "6d0fcf11-5e7b-4282-bd57-58ee57035225",
   "metadata": {},
   "outputs": [],
   "source": [
    "lasso_cv.score(Z_test, y_test)"
   ]
  },
  {
   "cell_type": "code",
   "execution_count": null,
   "id": "760ad601-f451-4c01-a412-38edbe80491b",
   "metadata": {},
   "outputs": [],
   "source": [
    "z_preds_test = lasso_cv.predict(Z_test)\n",
    "z_preds_train = lasso_cv.predict(Z_train)"
   ]
  },
  {
   "cell_type": "code",
   "execution_count": null,
   "id": "0f271ab7-abab-470e-89bb-d43a9416d948",
   "metadata": {},
   "outputs": [],
   "source": [
    "print(f'RMSE for training: {mean_squared_error(y_train, z_preds_train, squared=False)}')"
   ]
  },
  {
   "cell_type": "code",
   "execution_count": null,
   "id": "a077ad22-8470-471d-9471-5228720cf920",
   "metadata": {},
   "outputs": [],
   "source": [
    "print(f'RMSE for testing: {mean_squared_error(y_test, z_preds_test, squared=False)}')"
   ]
  },
  {
   "cell_type": "code",
   "execution_count": null,
   "id": "1463486d-d196-4463-b1e0-62571772c13d",
   "metadata": {},
   "outputs": [],
   "source": [
    "## plotting residuals: y- y_hat\n",
    "plt.figure(figsize=(8,8))\n",
    "plt.scatter(z_preds_train, z_preds_train - y_train, c = \"green\", marker = \"o\", label = \"Training data\", alpha=0.6)\n",
    "plt.scatter(z_preds_test, z_preds_test - y_test, c = \"orange\", marker = \"o\", label = \"Testing data\", alpha=0.6)\n",
    "plt.title(\"Linear regression with LASSO\")\n",
    "plt.xlabel(\"Predicted values\")\n",
    "plt.ylabel(\"Residuals\")\n",
    "plt.legend(loc = \"upper left\")\n",
    "plt.hlines(y = 0, xmin = 0, xmax = 700_000,color = \"red\");"
   ]
  },
  {
   "cell_type": "code",
   "execution_count": null,
   "id": "8dc8ce9d-59d3-4aba-926b-b77f837c7faf",
   "metadata": {},
   "outputs": [],
   "source": [
    "## plotting predicted values vs actual values\n",
    "\n",
    "plt.figure(figsize=(8,8))\n",
    "sns.regplot(data=X, x=z_preds_test, y=y_test, marker='o', color='orange', line_kws={'color':'red'})\n",
    "plt.xlabel('Predicted Sale Price', fontsize=14)\n",
    "plt.ylabel('Actual Sale Price', fontsize=14)\n",
    "plt.title('Predictions of Sale Price vs Actual Sale Price', fontsize=20);"
   ]
  },
  {
   "cell_type": "markdown",
   "id": "f8943b85-779f-44e6-a4b7-9e07d5df4393",
   "metadata": {},
   "source": [
    "### Baseline model"
   ]
  },
  {
   "cell_type": "code",
   "execution_count": null,
   "id": "78ef5f03-e31d-4c8f-95d9-e4d700e0b6db",
   "metadata": {},
   "outputs": [],
   "source": [
    "## baseline predictions\n",
    "baseline_train_preds = [y_train.mean()]*len(y_train)\n",
    "baseline_test_preds  = [y_train.mean()]*len(y_test)"
   ]
  },
  {
   "cell_type": "code",
   "execution_count": null,
   "id": "b8aa4e8a-0420-4c46-830e-e6913114ffae",
   "metadata": {},
   "outputs": [],
   "source": [
    "y_train_baseline = [y_train.mean()] *len(y_train)\n",
    "print(f'Baseline RMSE Train: {mean_squared_error(y_train, y_train_baseline, squared=False)}')"
   ]
  },
  {
   "cell_type": "code",
   "execution_count": null,
   "id": "d045d9c9-46ab-4079-8cd2-cecf1cf20ec2",
   "metadata": {},
   "outputs": [],
   "source": [
    "y_test_baseline = [y_train.mean()]*len(y_test)\n",
    "print(f'Baseline RMSE Test: {mean_squared_error(y_test, y_test_baseline, squared=False)}')"
   ]
  }
 ],
 "metadata": {
  "kernelspec": {
   "display_name": "Python 3 (ipykernel)",
   "language": "python",
   "name": "python3"
  },
  "language_info": {
   "codemirror_mode": {
    "name": "ipython",
    "version": 3
   },
   "file_extension": ".py",
   "mimetype": "text/x-python",
   "name": "python",
   "nbconvert_exporter": "python",
   "pygments_lexer": "ipython3",
   "version": "3.9.7"
  }
 },
 "nbformat": 4,
 "nbformat_minor": 5
}
