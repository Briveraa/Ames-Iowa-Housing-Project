{
 "cells": [
  {
   "cell_type": "code",
   "execution_count": 56,
   "id": "6043cb49",
   "metadata": {},
   "outputs": [],
   "source": [
    "## imports\n",
    "import pandas as pd\n",
    "import numpy as np\n",
    "import matplotlib.pyplot as plt\n",
    "import seaborn as sns\n",
    "\n",
    "from sklearn.model_selection import train_test_split, cross_val_score\n",
    "from sklearn.linear_model import LinearRegression\n",
    "from sklearn.metrics import mean_squared_error"
   ]
  },
  {
   "cell_type": "code",
   "execution_count": 57,
   "id": "faa80077",
   "metadata": {},
   "outputs": [],
   "source": [
    "## loading in the training data\n",
    "## original df\n",
    "train_ames = pd.read_csv(\"./datasets/train.csv\")"
   ]
  },
  {
   "cell_type": "code",
   "execution_count": 58,
   "id": "13ed1d9f",
   "metadata": {},
   "outputs": [],
   "source": [
    "## loading in testing data\n",
    "## original df\n",
    "testing_ames = pd.read_csv(\"./datasets/test.csv\")"
   ]
  },
  {
   "cell_type": "code",
   "execution_count": 59,
   "id": "ad286a5d",
   "metadata": {},
   "outputs": [
    {
     "data": {
      "text/plain": [
       "(2051, 81)"
      ]
     },
     "execution_count": 59,
     "metadata": {},
     "output_type": "execute_result"
    }
   ],
   "source": [
    "train_ames.shape"
   ]
  },
  {
   "cell_type": "code",
   "execution_count": 60,
   "id": "d6e29edd",
   "metadata": {},
   "outputs": [
    {
     "data": {
      "text/plain": [
       "(878, 80)"
      ]
     },
     "execution_count": 60,
     "metadata": {},
     "output_type": "execute_result"
    }
   ],
   "source": [
    "testing_ames.shape"
   ]
  },
  {
   "cell_type": "code",
   "execution_count": 61,
   "id": "b6e4414b",
   "metadata": {},
   "outputs": [
    {
     "data": {
      "text/plain": [
       "{'SalePrice'}"
      ]
     },
     "execution_count": 61,
     "metadata": {},
     "output_type": "execute_result"
    }
   ],
   "source": [
    "### What column is in train that is not in test?\n",
    "\n",
    "set(train_ames) - set(testing_ames)"
   ]
  },
  {
   "cell_type": "code",
   "execution_count": 62,
   "id": "05b56860",
   "metadata": {},
   "outputs": [],
   "source": [
    "## data cleaning"
   ]
  },
  {
   "cell_type": "code",
   "execution_count": 63,
   "id": "326a549a",
   "metadata": {},
   "outputs": [],
   "source": [
    "## set Id column to be our new index for both training and test\n",
    "train_ames.set_index(\"Id\", inplace=True)\n",
    "testing_ames.set_index(\"Id\", inplace=True)"
   ]
  },
  {
   "cell_type": "code",
   "execution_count": 64,
   "id": "897a0151",
   "metadata": {},
   "outputs": [
    {
     "data": {
      "text/html": [
       "<div>\n",
       "<style scoped>\n",
       "    .dataframe tbody tr th:only-of-type {\n",
       "        vertical-align: middle;\n",
       "    }\n",
       "\n",
       "    .dataframe tbody tr th {\n",
       "        vertical-align: top;\n",
       "    }\n",
       "\n",
       "    .dataframe thead th {\n",
       "        text-align: right;\n",
       "    }\n",
       "</style>\n",
       "<table border=\"1\" class=\"dataframe\">\n",
       "  <thead>\n",
       "    <tr style=\"text-align: right;\">\n",
       "      <th></th>\n",
       "      <th>PID</th>\n",
       "      <th>MS SubClass</th>\n",
       "      <th>MS Zoning</th>\n",
       "      <th>Lot Frontage</th>\n",
       "      <th>Lot Area</th>\n",
       "      <th>Street</th>\n",
       "      <th>Alley</th>\n",
       "      <th>Lot Shape</th>\n",
       "      <th>Land Contour</th>\n",
       "      <th>Utilities</th>\n",
       "      <th>...</th>\n",
       "      <th>Screen Porch</th>\n",
       "      <th>Pool Area</th>\n",
       "      <th>Pool QC</th>\n",
       "      <th>Fence</th>\n",
       "      <th>Misc Feature</th>\n",
       "      <th>Misc Val</th>\n",
       "      <th>Mo Sold</th>\n",
       "      <th>Yr Sold</th>\n",
       "      <th>Sale Type</th>\n",
       "      <th>SalePrice</th>\n",
       "    </tr>\n",
       "    <tr>\n",
       "      <th>Id</th>\n",
       "      <th></th>\n",
       "      <th></th>\n",
       "      <th></th>\n",
       "      <th></th>\n",
       "      <th></th>\n",
       "      <th></th>\n",
       "      <th></th>\n",
       "      <th></th>\n",
       "      <th></th>\n",
       "      <th></th>\n",
       "      <th></th>\n",
       "      <th></th>\n",
       "      <th></th>\n",
       "      <th></th>\n",
       "      <th></th>\n",
       "      <th></th>\n",
       "      <th></th>\n",
       "      <th></th>\n",
       "      <th></th>\n",
       "      <th></th>\n",
       "      <th></th>\n",
       "    </tr>\n",
       "  </thead>\n",
       "  <tbody>\n",
       "    <tr>\n",
       "      <th>109</th>\n",
       "      <td>533352170</td>\n",
       "      <td>60</td>\n",
       "      <td>RL</td>\n",
       "      <td>NaN</td>\n",
       "      <td>13517</td>\n",
       "      <td>Pave</td>\n",
       "      <td>NaN</td>\n",
       "      <td>IR1</td>\n",
       "      <td>Lvl</td>\n",
       "      <td>AllPub</td>\n",
       "      <td>...</td>\n",
       "      <td>0</td>\n",
       "      <td>0</td>\n",
       "      <td>NaN</td>\n",
       "      <td>NaN</td>\n",
       "      <td>NaN</td>\n",
       "      <td>0</td>\n",
       "      <td>3</td>\n",
       "      <td>2010</td>\n",
       "      <td>WD</td>\n",
       "      <td>130500</td>\n",
       "    </tr>\n",
       "    <tr>\n",
       "      <th>544</th>\n",
       "      <td>531379050</td>\n",
       "      <td>60</td>\n",
       "      <td>RL</td>\n",
       "      <td>43.0</td>\n",
       "      <td>11492</td>\n",
       "      <td>Pave</td>\n",
       "      <td>NaN</td>\n",
       "      <td>IR1</td>\n",
       "      <td>Lvl</td>\n",
       "      <td>AllPub</td>\n",
       "      <td>...</td>\n",
       "      <td>0</td>\n",
       "      <td>0</td>\n",
       "      <td>NaN</td>\n",
       "      <td>NaN</td>\n",
       "      <td>NaN</td>\n",
       "      <td>0</td>\n",
       "      <td>4</td>\n",
       "      <td>2009</td>\n",
       "      <td>WD</td>\n",
       "      <td>220000</td>\n",
       "    </tr>\n",
       "    <tr>\n",
       "      <th>153</th>\n",
       "      <td>535304180</td>\n",
       "      <td>20</td>\n",
       "      <td>RL</td>\n",
       "      <td>68.0</td>\n",
       "      <td>7922</td>\n",
       "      <td>Pave</td>\n",
       "      <td>NaN</td>\n",
       "      <td>Reg</td>\n",
       "      <td>Lvl</td>\n",
       "      <td>AllPub</td>\n",
       "      <td>...</td>\n",
       "      <td>0</td>\n",
       "      <td>0</td>\n",
       "      <td>NaN</td>\n",
       "      <td>NaN</td>\n",
       "      <td>NaN</td>\n",
       "      <td>0</td>\n",
       "      <td>1</td>\n",
       "      <td>2010</td>\n",
       "      <td>WD</td>\n",
       "      <td>109000</td>\n",
       "    </tr>\n",
       "    <tr>\n",
       "      <th>318</th>\n",
       "      <td>916386060</td>\n",
       "      <td>60</td>\n",
       "      <td>RL</td>\n",
       "      <td>73.0</td>\n",
       "      <td>9802</td>\n",
       "      <td>Pave</td>\n",
       "      <td>NaN</td>\n",
       "      <td>Reg</td>\n",
       "      <td>Lvl</td>\n",
       "      <td>AllPub</td>\n",
       "      <td>...</td>\n",
       "      <td>0</td>\n",
       "      <td>0</td>\n",
       "      <td>NaN</td>\n",
       "      <td>NaN</td>\n",
       "      <td>NaN</td>\n",
       "      <td>0</td>\n",
       "      <td>4</td>\n",
       "      <td>2010</td>\n",
       "      <td>WD</td>\n",
       "      <td>174000</td>\n",
       "    </tr>\n",
       "    <tr>\n",
       "      <th>255</th>\n",
       "      <td>906425045</td>\n",
       "      <td>50</td>\n",
       "      <td>RL</td>\n",
       "      <td>82.0</td>\n",
       "      <td>14235</td>\n",
       "      <td>Pave</td>\n",
       "      <td>NaN</td>\n",
       "      <td>IR1</td>\n",
       "      <td>Lvl</td>\n",
       "      <td>AllPub</td>\n",
       "      <td>...</td>\n",
       "      <td>0</td>\n",
       "      <td>0</td>\n",
       "      <td>NaN</td>\n",
       "      <td>NaN</td>\n",
       "      <td>NaN</td>\n",
       "      <td>0</td>\n",
       "      <td>3</td>\n",
       "      <td>2010</td>\n",
       "      <td>WD</td>\n",
       "      <td>138500</td>\n",
       "    </tr>\n",
       "  </tbody>\n",
       "</table>\n",
       "<p>5 rows × 80 columns</p>\n",
       "</div>"
      ],
      "text/plain": [
       "           PID  MS SubClass MS Zoning  Lot Frontage  Lot Area Street Alley  \\\n",
       "Id                                                                           \n",
       "109  533352170           60        RL           NaN     13517   Pave   NaN   \n",
       "544  531379050           60        RL          43.0     11492   Pave   NaN   \n",
       "153  535304180           20        RL          68.0      7922   Pave   NaN   \n",
       "318  916386060           60        RL          73.0      9802   Pave   NaN   \n",
       "255  906425045           50        RL          82.0     14235   Pave   NaN   \n",
       "\n",
       "    Lot Shape Land Contour Utilities  ... Screen Porch Pool Area Pool QC  \\\n",
       "Id                                    ...                                  \n",
       "109       IR1          Lvl    AllPub  ...            0         0     NaN   \n",
       "544       IR1          Lvl    AllPub  ...            0         0     NaN   \n",
       "153       Reg          Lvl    AllPub  ...            0         0     NaN   \n",
       "318       Reg          Lvl    AllPub  ...            0         0     NaN   \n",
       "255       IR1          Lvl    AllPub  ...            0         0     NaN   \n",
       "\n",
       "    Fence Misc Feature Misc Val Mo Sold  Yr Sold  Sale Type  SalePrice  \n",
       "Id                                                                      \n",
       "109   NaN          NaN        0       3     2010        WD      130500  \n",
       "544   NaN          NaN        0       4     2009        WD      220000  \n",
       "153   NaN          NaN        0       1     2010        WD      109000  \n",
       "318   NaN          NaN        0       4     2010        WD      174000  \n",
       "255   NaN          NaN        0       3     2010        WD      138500  \n",
       "\n",
       "[5 rows x 80 columns]"
      ]
     },
     "execution_count": 64,
     "metadata": {},
     "output_type": "execute_result"
    }
   ],
   "source": [
    "train_ames.head()"
   ]
  },
  {
   "cell_type": "code",
   "execution_count": 65,
   "id": "e1e55813",
   "metadata": {},
   "outputs": [
    {
     "name": "stdout",
     "output_type": "stream",
     "text": [
      "<class 'pandas.core.frame.DataFrame'>\n",
      "Int64Index: 2051 entries, 109 to 10\n",
      "Data columns (total 80 columns):\n",
      " #   Column           Non-Null Count  Dtype  \n",
      "---  ------           --------------  -----  \n",
      " 0   PID              2051 non-null   int64  \n",
      " 1   MS SubClass      2051 non-null   int64  \n",
      " 2   MS Zoning        2051 non-null   object \n",
      " 3   Lot Frontage     1721 non-null   float64\n",
      " 4   Lot Area         2051 non-null   int64  \n",
      " 5   Street           2051 non-null   object \n",
      " 6   Alley            140 non-null    object \n",
      " 7   Lot Shape        2051 non-null   object \n",
      " 8   Land Contour     2051 non-null   object \n",
      " 9   Utilities        2051 non-null   object \n",
      " 10  Lot Config       2051 non-null   object \n",
      " 11  Land Slope       2051 non-null   object \n",
      " 12  Neighborhood     2051 non-null   object \n",
      " 13  Condition 1      2051 non-null   object \n",
      " 14  Condition 2      2051 non-null   object \n",
      " 15  Bldg Type        2051 non-null   object \n",
      " 16  House Style      2051 non-null   object \n",
      " 17  Overall Qual     2051 non-null   int64  \n",
      " 18  Overall Cond     2051 non-null   int64  \n",
      " 19  Year Built       2051 non-null   int64  \n",
      " 20  Year Remod/Add   2051 non-null   int64  \n",
      " 21  Roof Style       2051 non-null   object \n",
      " 22  Roof Matl        2051 non-null   object \n",
      " 23  Exterior 1st     2051 non-null   object \n",
      " 24  Exterior 2nd     2051 non-null   object \n",
      " 25  Mas Vnr Type     2029 non-null   object \n",
      " 26  Mas Vnr Area     2029 non-null   float64\n",
      " 27  Exter Qual       2051 non-null   object \n",
      " 28  Exter Cond       2051 non-null   object \n",
      " 29  Foundation       2051 non-null   object \n",
      " 30  Bsmt Qual        1996 non-null   object \n",
      " 31  Bsmt Cond        1996 non-null   object \n",
      " 32  Bsmt Exposure    1993 non-null   object \n",
      " 33  BsmtFin Type 1   1996 non-null   object \n",
      " 34  BsmtFin SF 1     2050 non-null   float64\n",
      " 35  BsmtFin Type 2   1995 non-null   object \n",
      " 36  BsmtFin SF 2     2050 non-null   float64\n",
      " 37  Bsmt Unf SF      2050 non-null   float64\n",
      " 38  Total Bsmt SF    2050 non-null   float64\n",
      " 39  Heating          2051 non-null   object \n",
      " 40  Heating QC       2051 non-null   object \n",
      " 41  Central Air      2051 non-null   object \n",
      " 42  Electrical       2051 non-null   object \n",
      " 43  1st Flr SF       2051 non-null   int64  \n",
      " 44  2nd Flr SF       2051 non-null   int64  \n",
      " 45  Low Qual Fin SF  2051 non-null   int64  \n",
      " 46  Gr Liv Area      2051 non-null   int64  \n",
      " 47  Bsmt Full Bath   2049 non-null   float64\n",
      " 48  Bsmt Half Bath   2049 non-null   float64\n",
      " 49  Full Bath        2051 non-null   int64  \n",
      " 50  Half Bath        2051 non-null   int64  \n",
      " 51  Bedroom AbvGr    2051 non-null   int64  \n",
      " 52  Kitchen AbvGr    2051 non-null   int64  \n",
      " 53  Kitchen Qual     2051 non-null   object \n",
      " 54  TotRms AbvGrd    2051 non-null   int64  \n",
      " 55  Functional       2051 non-null   object \n",
      " 56  Fireplaces       2051 non-null   int64  \n",
      " 57  Fireplace Qu     1051 non-null   object \n",
      " 58  Garage Type      1938 non-null   object \n",
      " 59  Garage Yr Blt    1937 non-null   float64\n",
      " 60  Garage Finish    1937 non-null   object \n",
      " 61  Garage Cars      2050 non-null   float64\n",
      " 62  Garage Area      2050 non-null   float64\n",
      " 63  Garage Qual      1937 non-null   object \n",
      " 64  Garage Cond      1937 non-null   object \n",
      " 65  Paved Drive      2051 non-null   object \n",
      " 66  Wood Deck SF     2051 non-null   int64  \n",
      " 67  Open Porch SF    2051 non-null   int64  \n",
      " 68  Enclosed Porch   2051 non-null   int64  \n",
      " 69  3Ssn Porch       2051 non-null   int64  \n",
      " 70  Screen Porch     2051 non-null   int64  \n",
      " 71  Pool Area        2051 non-null   int64  \n",
      " 72  Pool QC          9 non-null      object \n",
      " 73  Fence            400 non-null    object \n",
      " 74  Misc Feature     65 non-null     object \n",
      " 75  Misc Val         2051 non-null   int64  \n",
      " 76  Mo Sold          2051 non-null   int64  \n",
      " 77  Yr Sold          2051 non-null   int64  \n",
      " 78  Sale Type        2051 non-null   object \n",
      " 79  SalePrice        2051 non-null   int64  \n",
      "dtypes: float64(11), int64(27), object(42)\n",
      "memory usage: 1.3+ MB\n"
     ]
    }
   ],
   "source": [
    "train_ames.info()"
   ]
  },
  {
   "cell_type": "code",
   "execution_count": 66,
   "id": "1dd197d3",
   "metadata": {},
   "outputs": [
    {
     "data": {
      "text/plain": [
       "Pool QC         2042\n",
       "Misc Feature    1986\n",
       "Alley           1911\n",
       "Fence           1651\n",
       "Fireplace Qu    1000\n",
       "                ... \n",
       "Central Air        0\n",
       "Electrical         0\n",
       "1st Flr SF         0\n",
       "2nd Flr SF         0\n",
       "SalePrice          0\n",
       "Length: 80, dtype: int64"
      ]
     },
     "execution_count": 66,
     "metadata": {},
     "output_type": "execute_result"
    }
   ],
   "source": [
    "## how many null values in training set\n",
    "train_ames.isnull().sum().sort_values(ascending=False)"
   ]
  },
  {
   "cell_type": "code",
   "execution_count": 67,
   "id": "a468b8a5",
   "metadata": {},
   "outputs": [],
   "source": [
    "## does not include condition 1 or condition 2\n",
    "\n",
    "features_one_train = train_ames[[\"PID\",\"MS SubClass\", \"MS Zoning\",\"Lot Area\", \"Street\", \"Alley\",\"Lot Shape\",\"Lot Config\", \n",
    "                      \"Neighborhood\",\"Bldg Type\", \"House Style\",\"Overall Qual\", \"Overall Cond\", \"Year Built\", \n",
    "                      \"Year Remod/Add\",\"SalePrice\"]]"
   ]
  },
  {
   "cell_type": "code",
   "execution_count": 68,
   "id": "692a79f0",
   "metadata": {},
   "outputs": [
    {
     "name": "stdout",
     "output_type": "stream",
     "text": [
      "<class 'pandas.core.frame.DataFrame'>\n",
      "Int64Index: 2051 entries, 109 to 10\n",
      "Data columns (total 16 columns):\n",
      " #   Column          Non-Null Count  Dtype \n",
      "---  ------          --------------  ----- \n",
      " 0   PID             2051 non-null   int64 \n",
      " 1   MS SubClass     2051 non-null   int64 \n",
      " 2   MS Zoning       2051 non-null   object\n",
      " 3   Lot Area        2051 non-null   int64 \n",
      " 4   Street          2051 non-null   object\n",
      " 5   Alley           140 non-null    object\n",
      " 6   Lot Shape       2051 non-null   object\n",
      " 7   Lot Config      2051 non-null   object\n",
      " 8   Neighborhood    2051 non-null   object\n",
      " 9   Bldg Type       2051 non-null   object\n",
      " 10  House Style     2051 non-null   object\n",
      " 11  Overall Qual    2051 non-null   int64 \n",
      " 12  Overall Cond    2051 non-null   int64 \n",
      " 13  Year Built      2051 non-null   int64 \n",
      " 14  Year Remod/Add  2051 non-null   int64 \n",
      " 15  SalePrice       2051 non-null   int64 \n",
      "dtypes: int64(8), object(8)\n",
      "memory usage: 272.4+ KB\n"
     ]
    }
   ],
   "source": [
    "features_one_train.info()"
   ]
  },
  {
   "cell_type": "code",
   "execution_count": 69,
   "id": "a14d1efa",
   "metadata": {},
   "outputs": [
    {
     "data": {
      "text/plain": [
       "PID                  0\n",
       "MS SubClass          0\n",
       "MS Zoning            0\n",
       "Lot Area             0\n",
       "Street               0\n",
       "Alley             1911\n",
       "Lot Shape            0\n",
       "Lot Config           0\n",
       "Neighborhood         0\n",
       "Bldg Type            0\n",
       "House Style          0\n",
       "Overall Qual         0\n",
       "Overall Cond         0\n",
       "Year Built           0\n",
       "Year Remod/Add       0\n",
       "SalePrice            0\n",
       "dtype: int64"
      ]
     },
     "execution_count": 69,
     "metadata": {},
     "output_type": "execute_result"
    }
   ],
   "source": [
    "features_one_train.isnull().sum()"
   ]
  },
  {
   "cell_type": "code",
   "execution_count": 70,
   "id": "5203eeb2",
   "metadata": {},
   "outputs": [],
   "source": [
    "# gets only the numeric data from features one dataframe \n",
    "numeric_one_feats = features_one_train._get_numeric_data()"
   ]
  },
  {
   "cell_type": "code",
   "execution_count": 71,
   "id": "8ff0d271",
   "metadata": {},
   "outputs": [
    {
     "data": {
      "text/html": [
       "<div>\n",
       "<style scoped>\n",
       "    .dataframe tbody tr th:only-of-type {\n",
       "        vertical-align: middle;\n",
       "    }\n",
       "\n",
       "    .dataframe tbody tr th {\n",
       "        vertical-align: top;\n",
       "    }\n",
       "\n",
       "    .dataframe thead th {\n",
       "        text-align: right;\n",
       "    }\n",
       "</style>\n",
       "<table border=\"1\" class=\"dataframe\">\n",
       "  <thead>\n",
       "    <tr style=\"text-align: right;\">\n",
       "      <th></th>\n",
       "      <th>PID</th>\n",
       "      <th>MS SubClass</th>\n",
       "      <th>Lot Area</th>\n",
       "      <th>Overall Qual</th>\n",
       "      <th>Overall Cond</th>\n",
       "      <th>Year Built</th>\n",
       "      <th>Year Remod/Add</th>\n",
       "      <th>SalePrice</th>\n",
       "    </tr>\n",
       "  </thead>\n",
       "  <tbody>\n",
       "    <tr>\n",
       "      <th>PID</th>\n",
       "      <td>1.000000</td>\n",
       "      <td>-0.003632</td>\n",
       "      <td>0.024135</td>\n",
       "      <td>-0.265863</td>\n",
       "      <td>0.106861</td>\n",
       "      <td>-0.347039</td>\n",
       "      <td>-0.176666</td>\n",
       "      <td>-0.255052</td>\n",
       "    </tr>\n",
       "    <tr>\n",
       "      <th>MS SubClass</th>\n",
       "      <td>-0.003632</td>\n",
       "      <td>1.000000</td>\n",
       "      <td>-0.245484</td>\n",
       "      <td>0.035763</td>\n",
       "      <td>-0.070141</td>\n",
       "      <td>0.035983</td>\n",
       "      <td>0.044836</td>\n",
       "      <td>-0.087335</td>\n",
       "    </tr>\n",
       "    <tr>\n",
       "      <th>Lot Area</th>\n",
       "      <td>0.024135</td>\n",
       "      <td>-0.245484</td>\n",
       "      <td>1.000000</td>\n",
       "      <td>0.105824</td>\n",
       "      <td>-0.019185</td>\n",
       "      <td>0.036002</td>\n",
       "      <td>0.050771</td>\n",
       "      <td>0.296566</td>\n",
       "    </tr>\n",
       "    <tr>\n",
       "      <th>Overall Qual</th>\n",
       "      <td>-0.265863</td>\n",
       "      <td>0.035763</td>\n",
       "      <td>0.105824</td>\n",
       "      <td>1.000000</td>\n",
       "      <td>-0.082770</td>\n",
       "      <td>0.602964</td>\n",
       "      <td>0.584654</td>\n",
       "      <td>0.800207</td>\n",
       "    </tr>\n",
       "    <tr>\n",
       "      <th>Overall Cond</th>\n",
       "      <td>0.106861</td>\n",
       "      <td>-0.070141</td>\n",
       "      <td>-0.019185</td>\n",
       "      <td>-0.082770</td>\n",
       "      <td>1.000000</td>\n",
       "      <td>-0.370988</td>\n",
       "      <td>0.042614</td>\n",
       "      <td>-0.097019</td>\n",
       "    </tr>\n",
       "    <tr>\n",
       "      <th>Year Built</th>\n",
       "      <td>-0.347039</td>\n",
       "      <td>0.035983</td>\n",
       "      <td>0.036002</td>\n",
       "      <td>0.602964</td>\n",
       "      <td>-0.370988</td>\n",
       "      <td>1.000000</td>\n",
       "      <td>0.629116</td>\n",
       "      <td>0.571849</td>\n",
       "    </tr>\n",
       "    <tr>\n",
       "      <th>Year Remod/Add</th>\n",
       "      <td>-0.176666</td>\n",
       "      <td>0.044836</td>\n",
       "      <td>0.050771</td>\n",
       "      <td>0.584654</td>\n",
       "      <td>0.042614</td>\n",
       "      <td>0.629116</td>\n",
       "      <td>1.000000</td>\n",
       "      <td>0.550370</td>\n",
       "    </tr>\n",
       "    <tr>\n",
       "      <th>SalePrice</th>\n",
       "      <td>-0.255052</td>\n",
       "      <td>-0.087335</td>\n",
       "      <td>0.296566</td>\n",
       "      <td>0.800207</td>\n",
       "      <td>-0.097019</td>\n",
       "      <td>0.571849</td>\n",
       "      <td>0.550370</td>\n",
       "      <td>1.000000</td>\n",
       "    </tr>\n",
       "  </tbody>\n",
       "</table>\n",
       "</div>"
      ],
      "text/plain": [
       "                     PID  MS SubClass  Lot Area  Overall Qual  Overall Cond  \\\n",
       "PID             1.000000    -0.003632  0.024135     -0.265863      0.106861   \n",
       "MS SubClass    -0.003632     1.000000 -0.245484      0.035763     -0.070141   \n",
       "Lot Area        0.024135    -0.245484  1.000000      0.105824     -0.019185   \n",
       "Overall Qual   -0.265863     0.035763  0.105824      1.000000     -0.082770   \n",
       "Overall Cond    0.106861    -0.070141 -0.019185     -0.082770      1.000000   \n",
       "Year Built     -0.347039     0.035983  0.036002      0.602964     -0.370988   \n",
       "Year Remod/Add -0.176666     0.044836  0.050771      0.584654      0.042614   \n",
       "SalePrice      -0.255052    -0.087335  0.296566      0.800207     -0.097019   \n",
       "\n",
       "                Year Built  Year Remod/Add  SalePrice  \n",
       "PID              -0.347039       -0.176666  -0.255052  \n",
       "MS SubClass       0.035983        0.044836  -0.087335  \n",
       "Lot Area          0.036002        0.050771   0.296566  \n",
       "Overall Qual      0.602964        0.584654   0.800207  \n",
       "Overall Cond     -0.370988        0.042614  -0.097019  \n",
       "Year Built        1.000000        0.629116   0.571849  \n",
       "Year Remod/Add    0.629116        1.000000   0.550370  \n",
       "SalePrice         0.571849        0.550370   1.000000  "
      ]
     },
     "execution_count": 71,
     "metadata": {},
     "output_type": "execute_result"
    }
   ],
   "source": [
    "## looking at the correlation matrix of features one \n",
    "numeric_one_feats.corr()"
   ]
  },
  {
   "cell_type": "markdown",
   "id": "ff8ec00d",
   "metadata": {},
   "source": [
    "**conclusions** after looking at correlation betweeen price and feature above, I've decided to drop Overall condition, MS Subclass, street_pave (street,corr = 0.069), dropping all building, lot config vars, lot shape. "
   ]
  },
  {
   "cell_type": "markdown",
   "id": "a7b6f0c5",
   "metadata": {},
   "source": [
    "## Dropping Columns based on corr matrix value"
   ]
  },
  {
   "cell_type": "code",
   "execution_count": 72,
   "id": "fe294c1b",
   "metadata": {},
   "outputs": [
    {
     "name": "stderr",
     "output_type": "stream",
     "text": [
      "/Users/brianna/opt/anaconda3/lib/python3.8/site-packages/pandas/core/frame.py:4308: SettingWithCopyWarning: \n",
      "A value is trying to be set on a copy of a slice from a DataFrame\n",
      "\n",
      "See the caveats in the documentation: https://pandas.pydata.org/pandas-docs/stable/user_guide/indexing.html#returning-a-view-versus-a-copy\n",
      "  return super().drop(\n"
     ]
    }
   ],
   "source": [
    "features_one_train.drop(columns = [\"Lot Config\", \"MS SubClass\"],inplace=True)"
   ]
  },
  {
   "cell_type": "code",
   "execution_count": 73,
   "id": "79103c9b",
   "metadata": {},
   "outputs": [],
   "source": [
    "features_one_train.drop(columns = ['MS Zoning'], inplace=True)"
   ]
  },
  {
   "cell_type": "markdown",
   "id": "6fa02d33",
   "metadata": {},
   "source": [
    "## making dummy columns & dropping cols based on work done in 01 notebook"
   ]
  },
  {
   "cell_type": "code",
   "execution_count": 74,
   "id": "33bf98f9",
   "metadata": {},
   "outputs": [],
   "source": [
    "features_one_train = pd.get_dummies(columns=[\"Neighborhood\"],drop_first=True, data=features_one_train)"
   ]
  },
  {
   "cell_type": "code",
   "execution_count": 75,
   "id": "671412c3",
   "metadata": {},
   "outputs": [],
   "source": [
    "features_one_train.drop(columns=[\"Street\", \"Alley\"], inplace=True)"
   ]
  },
  {
   "cell_type": "code",
   "execution_count": 76,
   "id": "c9423a20",
   "metadata": {},
   "outputs": [],
   "source": [
    "features_one_train.drop(columns = [\"Lot Shape\", \"Bldg Type\", \"House Style\"], inplace=True)"
   ]
  },
  {
   "cell_type": "code",
   "execution_count": 77,
   "id": "4e37c449",
   "metadata": {},
   "outputs": [],
   "source": [
    "features_one_train.drop(columns=[\"PID\"], inplace=True)"
   ]
  },
  {
   "cell_type": "code",
   "execution_count": 78,
   "id": "7aa70904",
   "metadata": {},
   "outputs": [
    {
     "data": {
      "text/html": [
       "<div>\n",
       "<style scoped>\n",
       "    .dataframe tbody tr th:only-of-type {\n",
       "        vertical-align: middle;\n",
       "    }\n",
       "\n",
       "    .dataframe tbody tr th {\n",
       "        vertical-align: top;\n",
       "    }\n",
       "\n",
       "    .dataframe thead th {\n",
       "        text-align: right;\n",
       "    }\n",
       "</style>\n",
       "<table border=\"1\" class=\"dataframe\">\n",
       "  <thead>\n",
       "    <tr style=\"text-align: right;\">\n",
       "      <th></th>\n",
       "      <th>Lot Area</th>\n",
       "      <th>Overall Qual</th>\n",
       "      <th>Overall Cond</th>\n",
       "      <th>Year Built</th>\n",
       "      <th>Year Remod/Add</th>\n",
       "      <th>SalePrice</th>\n",
       "      <th>Neighborhood_Blueste</th>\n",
       "      <th>Neighborhood_BrDale</th>\n",
       "      <th>Neighborhood_BrkSide</th>\n",
       "      <th>Neighborhood_ClearCr</th>\n",
       "      <th>...</th>\n",
       "      <th>Neighborhood_NoRidge</th>\n",
       "      <th>Neighborhood_NridgHt</th>\n",
       "      <th>Neighborhood_OldTown</th>\n",
       "      <th>Neighborhood_SWISU</th>\n",
       "      <th>Neighborhood_Sawyer</th>\n",
       "      <th>Neighborhood_SawyerW</th>\n",
       "      <th>Neighborhood_Somerst</th>\n",
       "      <th>Neighborhood_StoneBr</th>\n",
       "      <th>Neighborhood_Timber</th>\n",
       "      <th>Neighborhood_Veenker</th>\n",
       "    </tr>\n",
       "    <tr>\n",
       "      <th>Id</th>\n",
       "      <th></th>\n",
       "      <th></th>\n",
       "      <th></th>\n",
       "      <th></th>\n",
       "      <th></th>\n",
       "      <th></th>\n",
       "      <th></th>\n",
       "      <th></th>\n",
       "      <th></th>\n",
       "      <th></th>\n",
       "      <th></th>\n",
       "      <th></th>\n",
       "      <th></th>\n",
       "      <th></th>\n",
       "      <th></th>\n",
       "      <th></th>\n",
       "      <th></th>\n",
       "      <th></th>\n",
       "      <th></th>\n",
       "      <th></th>\n",
       "      <th></th>\n",
       "    </tr>\n",
       "  </thead>\n",
       "  <tbody>\n",
       "    <tr>\n",
       "      <th>109</th>\n",
       "      <td>13517</td>\n",
       "      <td>6</td>\n",
       "      <td>8</td>\n",
       "      <td>1976</td>\n",
       "      <td>2005</td>\n",
       "      <td>130500</td>\n",
       "      <td>0</td>\n",
       "      <td>0</td>\n",
       "      <td>0</td>\n",
       "      <td>0</td>\n",
       "      <td>...</td>\n",
       "      <td>0</td>\n",
       "      <td>0</td>\n",
       "      <td>0</td>\n",
       "      <td>0</td>\n",
       "      <td>1</td>\n",
       "      <td>0</td>\n",
       "      <td>0</td>\n",
       "      <td>0</td>\n",
       "      <td>0</td>\n",
       "      <td>0</td>\n",
       "    </tr>\n",
       "    <tr>\n",
       "      <th>544</th>\n",
       "      <td>11492</td>\n",
       "      <td>7</td>\n",
       "      <td>5</td>\n",
       "      <td>1996</td>\n",
       "      <td>1997</td>\n",
       "      <td>220000</td>\n",
       "      <td>0</td>\n",
       "      <td>0</td>\n",
       "      <td>0</td>\n",
       "      <td>0</td>\n",
       "      <td>...</td>\n",
       "      <td>0</td>\n",
       "      <td>0</td>\n",
       "      <td>0</td>\n",
       "      <td>0</td>\n",
       "      <td>0</td>\n",
       "      <td>1</td>\n",
       "      <td>0</td>\n",
       "      <td>0</td>\n",
       "      <td>0</td>\n",
       "      <td>0</td>\n",
       "    </tr>\n",
       "    <tr>\n",
       "      <th>153</th>\n",
       "      <td>7922</td>\n",
       "      <td>5</td>\n",
       "      <td>7</td>\n",
       "      <td>1953</td>\n",
       "      <td>2007</td>\n",
       "      <td>109000</td>\n",
       "      <td>0</td>\n",
       "      <td>0</td>\n",
       "      <td>0</td>\n",
       "      <td>0</td>\n",
       "      <td>...</td>\n",
       "      <td>0</td>\n",
       "      <td>0</td>\n",
       "      <td>0</td>\n",
       "      <td>0</td>\n",
       "      <td>0</td>\n",
       "      <td>0</td>\n",
       "      <td>0</td>\n",
       "      <td>0</td>\n",
       "      <td>0</td>\n",
       "      <td>0</td>\n",
       "    </tr>\n",
       "    <tr>\n",
       "      <th>318</th>\n",
       "      <td>9802</td>\n",
       "      <td>5</td>\n",
       "      <td>5</td>\n",
       "      <td>2006</td>\n",
       "      <td>2007</td>\n",
       "      <td>174000</td>\n",
       "      <td>0</td>\n",
       "      <td>0</td>\n",
       "      <td>0</td>\n",
       "      <td>0</td>\n",
       "      <td>...</td>\n",
       "      <td>0</td>\n",
       "      <td>0</td>\n",
       "      <td>0</td>\n",
       "      <td>0</td>\n",
       "      <td>0</td>\n",
       "      <td>0</td>\n",
       "      <td>0</td>\n",
       "      <td>0</td>\n",
       "      <td>1</td>\n",
       "      <td>0</td>\n",
       "    </tr>\n",
       "    <tr>\n",
       "      <th>255</th>\n",
       "      <td>14235</td>\n",
       "      <td>6</td>\n",
       "      <td>8</td>\n",
       "      <td>1900</td>\n",
       "      <td>1993</td>\n",
       "      <td>138500</td>\n",
       "      <td>0</td>\n",
       "      <td>0</td>\n",
       "      <td>0</td>\n",
       "      <td>0</td>\n",
       "      <td>...</td>\n",
       "      <td>0</td>\n",
       "      <td>0</td>\n",
       "      <td>0</td>\n",
       "      <td>0</td>\n",
       "      <td>0</td>\n",
       "      <td>1</td>\n",
       "      <td>0</td>\n",
       "      <td>0</td>\n",
       "      <td>0</td>\n",
       "      <td>0</td>\n",
       "    </tr>\n",
       "  </tbody>\n",
       "</table>\n",
       "<p>5 rows × 33 columns</p>\n",
       "</div>"
      ],
      "text/plain": [
       "     Lot Area  Overall Qual  Overall Cond  Year Built  Year Remod/Add  \\\n",
       "Id                                                                      \n",
       "109     13517             6             8        1976            2005   \n",
       "544     11492             7             5        1996            1997   \n",
       "153      7922             5             7        1953            2007   \n",
       "318      9802             5             5        2006            2007   \n",
       "255     14235             6             8        1900            1993   \n",
       "\n",
       "     SalePrice  Neighborhood_Blueste  Neighborhood_BrDale  \\\n",
       "Id                                                          \n",
       "109     130500                     0                    0   \n",
       "544     220000                     0                    0   \n",
       "153     109000                     0                    0   \n",
       "318     174000                     0                    0   \n",
       "255     138500                     0                    0   \n",
       "\n",
       "     Neighborhood_BrkSide  Neighborhood_ClearCr  ...  Neighborhood_NoRidge  \\\n",
       "Id                                               ...                         \n",
       "109                     0                     0  ...                     0   \n",
       "544                     0                     0  ...                     0   \n",
       "153                     0                     0  ...                     0   \n",
       "318                     0                     0  ...                     0   \n",
       "255                     0                     0  ...                     0   \n",
       "\n",
       "     Neighborhood_NridgHt  Neighborhood_OldTown  Neighborhood_SWISU  \\\n",
       "Id                                                                    \n",
       "109                     0                     0                   0   \n",
       "544                     0                     0                   0   \n",
       "153                     0                     0                   0   \n",
       "318                     0                     0                   0   \n",
       "255                     0                     0                   0   \n",
       "\n",
       "     Neighborhood_Sawyer  Neighborhood_SawyerW  Neighborhood_Somerst  \\\n",
       "Id                                                                     \n",
       "109                    1                     0                     0   \n",
       "544                    0                     1                     0   \n",
       "153                    0                     0                     0   \n",
       "318                    0                     0                     0   \n",
       "255                    0                     1                     0   \n",
       "\n",
       "     Neighborhood_StoneBr  Neighborhood_Timber  Neighborhood_Veenker  \n",
       "Id                                                                    \n",
       "109                     0                    0                     0  \n",
       "544                     0                    0                     0  \n",
       "153                     0                    0                     0  \n",
       "318                     0                    1                     0  \n",
       "255                     0                    0                     0  \n",
       "\n",
       "[5 rows x 33 columns]"
      ]
     },
     "execution_count": 78,
     "metadata": {},
     "output_type": "execute_result"
    }
   ],
   "source": [
    "features_one_train.head()"
   ]
  },
  {
   "cell_type": "markdown",
   "id": "bbbee760",
   "metadata": {},
   "source": [
    "## First Data Frame Complete; training data"
   ]
  },
  {
   "cell_type": "markdown",
   "id": "9b1738be",
   "metadata": {},
   "source": [
    "This dataframe contains columns I thought to be highly correlated with sale price. \n",
    "I analyzed columns 1-20; all numeric and categorical columns. I decided not to include house style in this DF"
   ]
  },
  {
   "cell_type": "code",
   "execution_count": 79,
   "id": "dd0e0dea",
   "metadata": {},
   "outputs": [
    {
     "data": {
      "text/html": [
       "<div>\n",
       "<style scoped>\n",
       "    .dataframe tbody tr th:only-of-type {\n",
       "        vertical-align: middle;\n",
       "    }\n",
       "\n",
       "    .dataframe tbody tr th {\n",
       "        vertical-align: top;\n",
       "    }\n",
       "\n",
       "    .dataframe thead th {\n",
       "        text-align: right;\n",
       "    }\n",
       "</style>\n",
       "<table border=\"1\" class=\"dataframe\">\n",
       "  <thead>\n",
       "    <tr style=\"text-align: right;\">\n",
       "      <th></th>\n",
       "      <th>Lot Area</th>\n",
       "      <th>Overall Qual</th>\n",
       "      <th>Overall Cond</th>\n",
       "      <th>Year Built</th>\n",
       "      <th>Year Remod/Add</th>\n",
       "      <th>SalePrice</th>\n",
       "      <th>Neighborhood_Blueste</th>\n",
       "      <th>Neighborhood_BrDale</th>\n",
       "      <th>Neighborhood_BrkSide</th>\n",
       "      <th>Neighborhood_ClearCr</th>\n",
       "      <th>...</th>\n",
       "      <th>Neighborhood_NoRidge</th>\n",
       "      <th>Neighborhood_NridgHt</th>\n",
       "      <th>Neighborhood_OldTown</th>\n",
       "      <th>Neighborhood_SWISU</th>\n",
       "      <th>Neighborhood_Sawyer</th>\n",
       "      <th>Neighborhood_SawyerW</th>\n",
       "      <th>Neighborhood_Somerst</th>\n",
       "      <th>Neighborhood_StoneBr</th>\n",
       "      <th>Neighborhood_Timber</th>\n",
       "      <th>Neighborhood_Veenker</th>\n",
       "    </tr>\n",
       "    <tr>\n",
       "      <th>Id</th>\n",
       "      <th></th>\n",
       "      <th></th>\n",
       "      <th></th>\n",
       "      <th></th>\n",
       "      <th></th>\n",
       "      <th></th>\n",
       "      <th></th>\n",
       "      <th></th>\n",
       "      <th></th>\n",
       "      <th></th>\n",
       "      <th></th>\n",
       "      <th></th>\n",
       "      <th></th>\n",
       "      <th></th>\n",
       "      <th></th>\n",
       "      <th></th>\n",
       "      <th></th>\n",
       "      <th></th>\n",
       "      <th></th>\n",
       "      <th></th>\n",
       "      <th></th>\n",
       "    </tr>\n",
       "  </thead>\n",
       "  <tbody>\n",
       "    <tr>\n",
       "      <th>109</th>\n",
       "      <td>13517</td>\n",
       "      <td>6</td>\n",
       "      <td>8</td>\n",
       "      <td>1976</td>\n",
       "      <td>2005</td>\n",
       "      <td>130500</td>\n",
       "      <td>0</td>\n",
       "      <td>0</td>\n",
       "      <td>0</td>\n",
       "      <td>0</td>\n",
       "      <td>...</td>\n",
       "      <td>0</td>\n",
       "      <td>0</td>\n",
       "      <td>0</td>\n",
       "      <td>0</td>\n",
       "      <td>1</td>\n",
       "      <td>0</td>\n",
       "      <td>0</td>\n",
       "      <td>0</td>\n",
       "      <td>0</td>\n",
       "      <td>0</td>\n",
       "    </tr>\n",
       "    <tr>\n",
       "      <th>544</th>\n",
       "      <td>11492</td>\n",
       "      <td>7</td>\n",
       "      <td>5</td>\n",
       "      <td>1996</td>\n",
       "      <td>1997</td>\n",
       "      <td>220000</td>\n",
       "      <td>0</td>\n",
       "      <td>0</td>\n",
       "      <td>0</td>\n",
       "      <td>0</td>\n",
       "      <td>...</td>\n",
       "      <td>0</td>\n",
       "      <td>0</td>\n",
       "      <td>0</td>\n",
       "      <td>0</td>\n",
       "      <td>0</td>\n",
       "      <td>1</td>\n",
       "      <td>0</td>\n",
       "      <td>0</td>\n",
       "      <td>0</td>\n",
       "      <td>0</td>\n",
       "    </tr>\n",
       "    <tr>\n",
       "      <th>153</th>\n",
       "      <td>7922</td>\n",
       "      <td>5</td>\n",
       "      <td>7</td>\n",
       "      <td>1953</td>\n",
       "      <td>2007</td>\n",
       "      <td>109000</td>\n",
       "      <td>0</td>\n",
       "      <td>0</td>\n",
       "      <td>0</td>\n",
       "      <td>0</td>\n",
       "      <td>...</td>\n",
       "      <td>0</td>\n",
       "      <td>0</td>\n",
       "      <td>0</td>\n",
       "      <td>0</td>\n",
       "      <td>0</td>\n",
       "      <td>0</td>\n",
       "      <td>0</td>\n",
       "      <td>0</td>\n",
       "      <td>0</td>\n",
       "      <td>0</td>\n",
       "    </tr>\n",
       "    <tr>\n",
       "      <th>318</th>\n",
       "      <td>9802</td>\n",
       "      <td>5</td>\n",
       "      <td>5</td>\n",
       "      <td>2006</td>\n",
       "      <td>2007</td>\n",
       "      <td>174000</td>\n",
       "      <td>0</td>\n",
       "      <td>0</td>\n",
       "      <td>0</td>\n",
       "      <td>0</td>\n",
       "      <td>...</td>\n",
       "      <td>0</td>\n",
       "      <td>0</td>\n",
       "      <td>0</td>\n",
       "      <td>0</td>\n",
       "      <td>0</td>\n",
       "      <td>0</td>\n",
       "      <td>0</td>\n",
       "      <td>0</td>\n",
       "      <td>1</td>\n",
       "      <td>0</td>\n",
       "    </tr>\n",
       "    <tr>\n",
       "      <th>255</th>\n",
       "      <td>14235</td>\n",
       "      <td>6</td>\n",
       "      <td>8</td>\n",
       "      <td>1900</td>\n",
       "      <td>1993</td>\n",
       "      <td>138500</td>\n",
       "      <td>0</td>\n",
       "      <td>0</td>\n",
       "      <td>0</td>\n",
       "      <td>0</td>\n",
       "      <td>...</td>\n",
       "      <td>0</td>\n",
       "      <td>0</td>\n",
       "      <td>0</td>\n",
       "      <td>0</td>\n",
       "      <td>0</td>\n",
       "      <td>1</td>\n",
       "      <td>0</td>\n",
       "      <td>0</td>\n",
       "      <td>0</td>\n",
       "      <td>0</td>\n",
       "    </tr>\n",
       "    <tr>\n",
       "      <th>...</th>\n",
       "      <td>...</td>\n",
       "      <td>...</td>\n",
       "      <td>...</td>\n",
       "      <td>...</td>\n",
       "      <td>...</td>\n",
       "      <td>...</td>\n",
       "      <td>...</td>\n",
       "      <td>...</td>\n",
       "      <td>...</td>\n",
       "      <td>...</td>\n",
       "      <td>...</td>\n",
       "      <td>...</td>\n",
       "      <td>...</td>\n",
       "      <td>...</td>\n",
       "      <td>...</td>\n",
       "      <td>...</td>\n",
       "      <td>...</td>\n",
       "      <td>...</td>\n",
       "      <td>...</td>\n",
       "      <td>...</td>\n",
       "      <td>...</td>\n",
       "    </tr>\n",
       "    <tr>\n",
       "      <th>1587</th>\n",
       "      <td>11449</td>\n",
       "      <td>8</td>\n",
       "      <td>5</td>\n",
       "      <td>2007</td>\n",
       "      <td>2007</td>\n",
       "      <td>298751</td>\n",
       "      <td>0</td>\n",
       "      <td>0</td>\n",
       "      <td>0</td>\n",
       "      <td>0</td>\n",
       "      <td>...</td>\n",
       "      <td>0</td>\n",
       "      <td>0</td>\n",
       "      <td>0</td>\n",
       "      <td>0</td>\n",
       "      <td>0</td>\n",
       "      <td>0</td>\n",
       "      <td>0</td>\n",
       "      <td>0</td>\n",
       "      <td>1</td>\n",
       "      <td>0</td>\n",
       "    </tr>\n",
       "    <tr>\n",
       "      <th>785</th>\n",
       "      <td>12342</td>\n",
       "      <td>4</td>\n",
       "      <td>5</td>\n",
       "      <td>1940</td>\n",
       "      <td>1950</td>\n",
       "      <td>82500</td>\n",
       "      <td>0</td>\n",
       "      <td>0</td>\n",
       "      <td>0</td>\n",
       "      <td>0</td>\n",
       "      <td>...</td>\n",
       "      <td>0</td>\n",
       "      <td>0</td>\n",
       "      <td>0</td>\n",
       "      <td>0</td>\n",
       "      <td>0</td>\n",
       "      <td>0</td>\n",
       "      <td>0</td>\n",
       "      <td>0</td>\n",
       "      <td>0</td>\n",
       "      <td>0</td>\n",
       "    </tr>\n",
       "    <tr>\n",
       "      <th>916</th>\n",
       "      <td>7558</td>\n",
       "      <td>6</td>\n",
       "      <td>6</td>\n",
       "      <td>1928</td>\n",
       "      <td>1950</td>\n",
       "      <td>177000</td>\n",
       "      <td>0</td>\n",
       "      <td>0</td>\n",
       "      <td>0</td>\n",
       "      <td>0</td>\n",
       "      <td>...</td>\n",
       "      <td>0</td>\n",
       "      <td>0</td>\n",
       "      <td>0</td>\n",
       "      <td>0</td>\n",
       "      <td>0</td>\n",
       "      <td>0</td>\n",
       "      <td>0</td>\n",
       "      <td>0</td>\n",
       "      <td>0</td>\n",
       "      <td>0</td>\n",
       "    </tr>\n",
       "    <tr>\n",
       "      <th>639</th>\n",
       "      <td>10400</td>\n",
       "      <td>4</td>\n",
       "      <td>5</td>\n",
       "      <td>1956</td>\n",
       "      <td>1956</td>\n",
       "      <td>144000</td>\n",
       "      <td>0</td>\n",
       "      <td>0</td>\n",
       "      <td>0</td>\n",
       "      <td>0</td>\n",
       "      <td>...</td>\n",
       "      <td>0</td>\n",
       "      <td>0</td>\n",
       "      <td>0</td>\n",
       "      <td>0</td>\n",
       "      <td>0</td>\n",
       "      <td>0</td>\n",
       "      <td>0</td>\n",
       "      <td>0</td>\n",
       "      <td>0</td>\n",
       "      <td>0</td>\n",
       "    </tr>\n",
       "    <tr>\n",
       "      <th>10</th>\n",
       "      <td>7500</td>\n",
       "      <td>7</td>\n",
       "      <td>5</td>\n",
       "      <td>1999</td>\n",
       "      <td>1999</td>\n",
       "      <td>189000</td>\n",
       "      <td>0</td>\n",
       "      <td>0</td>\n",
       "      <td>0</td>\n",
       "      <td>0</td>\n",
       "      <td>...</td>\n",
       "      <td>0</td>\n",
       "      <td>0</td>\n",
       "      <td>0</td>\n",
       "      <td>0</td>\n",
       "      <td>0</td>\n",
       "      <td>0</td>\n",
       "      <td>0</td>\n",
       "      <td>0</td>\n",
       "      <td>0</td>\n",
       "      <td>0</td>\n",
       "    </tr>\n",
       "  </tbody>\n",
       "</table>\n",
       "<p>2051 rows × 33 columns</p>\n",
       "</div>"
      ],
      "text/plain": [
       "      Lot Area  Overall Qual  Overall Cond  Year Built  Year Remod/Add  \\\n",
       "Id                                                                       \n",
       "109      13517             6             8        1976            2005   \n",
       "544      11492             7             5        1996            1997   \n",
       "153       7922             5             7        1953            2007   \n",
       "318       9802             5             5        2006            2007   \n",
       "255      14235             6             8        1900            1993   \n",
       "...        ...           ...           ...         ...             ...   \n",
       "1587     11449             8             5        2007            2007   \n",
       "785      12342             4             5        1940            1950   \n",
       "916       7558             6             6        1928            1950   \n",
       "639      10400             4             5        1956            1956   \n",
       "10        7500             7             5        1999            1999   \n",
       "\n",
       "      SalePrice  Neighborhood_Blueste  Neighborhood_BrDale  \\\n",
       "Id                                                           \n",
       "109      130500                     0                    0   \n",
       "544      220000                     0                    0   \n",
       "153      109000                     0                    0   \n",
       "318      174000                     0                    0   \n",
       "255      138500                     0                    0   \n",
       "...         ...                   ...                  ...   \n",
       "1587     298751                     0                    0   \n",
       "785       82500                     0                    0   \n",
       "916      177000                     0                    0   \n",
       "639      144000                     0                    0   \n",
       "10       189000                     0                    0   \n",
       "\n",
       "      Neighborhood_BrkSide  Neighborhood_ClearCr  ...  Neighborhood_NoRidge  \\\n",
       "Id                                                ...                         \n",
       "109                      0                     0  ...                     0   \n",
       "544                      0                     0  ...                     0   \n",
       "153                      0                     0  ...                     0   \n",
       "318                      0                     0  ...                     0   \n",
       "255                      0                     0  ...                     0   \n",
       "...                    ...                   ...  ...                   ...   \n",
       "1587                     0                     0  ...                     0   \n",
       "785                      0                     0  ...                     0   \n",
       "916                      0                     0  ...                     0   \n",
       "639                      0                     0  ...                     0   \n",
       "10                       0                     0  ...                     0   \n",
       "\n",
       "      Neighborhood_NridgHt  Neighborhood_OldTown  Neighborhood_SWISU  \\\n",
       "Id                                                                     \n",
       "109                      0                     0                   0   \n",
       "544                      0                     0                   0   \n",
       "153                      0                     0                   0   \n",
       "318                      0                     0                   0   \n",
       "255                      0                     0                   0   \n",
       "...                    ...                   ...                 ...   \n",
       "1587                     0                     0                   0   \n",
       "785                      0                     0                   0   \n",
       "916                      0                     0                   0   \n",
       "639                      0                     0                   0   \n",
       "10                       0                     0                   0   \n",
       "\n",
       "      Neighborhood_Sawyer  Neighborhood_SawyerW  Neighborhood_Somerst  \\\n",
       "Id                                                                      \n",
       "109                     1                     0                     0   \n",
       "544                     0                     1                     0   \n",
       "153                     0                     0                     0   \n",
       "318                     0                     0                     0   \n",
       "255                     0                     1                     0   \n",
       "...                   ...                   ...                   ...   \n",
       "1587                    0                     0                     0   \n",
       "785                     0                     0                     0   \n",
       "916                     0                     0                     0   \n",
       "639                     0                     0                     0   \n",
       "10                      0                     0                     0   \n",
       "\n",
       "      Neighborhood_StoneBr  Neighborhood_Timber  Neighborhood_Veenker  \n",
       "Id                                                                     \n",
       "109                      0                    0                     0  \n",
       "544                      0                    0                     0  \n",
       "153                      0                    0                     0  \n",
       "318                      0                    1                     0  \n",
       "255                      0                    0                     0  \n",
       "...                    ...                  ...                   ...  \n",
       "1587                     0                    1                     0  \n",
       "785                      0                    0                     0  \n",
       "916                      0                    0                     0  \n",
       "639                      0                    0                     0  \n",
       "10                       0                    0                     0  \n",
       "\n",
       "[2051 rows x 33 columns]"
      ]
     },
     "execution_count": 79,
     "metadata": {},
     "output_type": "execute_result"
    }
   ],
   "source": [
    "features_one_train "
   ]
  },
  {
   "cell_type": "code",
   "execution_count": 80,
   "id": "9ce55073",
   "metadata": {},
   "outputs": [
    {
     "data": {
      "image/png": "[encoded data removed]",
      "text/plain": [
       "<Figure size 1260x180 with 8 Axes>"
      ]
     },
     "metadata": {
      "needs_background": "light"
     },
     "output_type": "display_data"
    }
   ],
   "source": [
    "sns.pairplot(data=features_one_train, y_vars = [\"SalePrice\"], x_vars = ['Lot Area', 'Overall Qual', 'Overall Cond','Year Built', 'Year Remod/Add',\n",
    "       'SalePrice', 'Neighborhood_NridgHt']);"
   ]
  },
  {
   "cell_type": "code",
   "execution_count": null,
   "id": "5cc5c1d9",
   "metadata": {},
   "outputs": [],
   "source": []
  },
  {
   "cell_type": "code",
   "execution_count": null,
   "id": "f2bed5df",
   "metadata": {},
   "outputs": [],
   "source": []
  },
  {
   "cell_type": "markdown",
   "id": "c5087c97",
   "metadata": {},
   "source": [
    "## Second DataFrame\n"
   ]
  },
  {
   "cell_type": "code",
   "execution_count": 81,
   "id": "d16096d4",
   "metadata": {
    "scrolled": true
   },
   "outputs": [
    {
     "name": "stdout",
     "output_type": "stream",
     "text": [
      "<class 'pandas.core.frame.DataFrame'>\n",
      "Int64Index: 2051 entries, 109 to 10\n",
      "Data columns (total 80 columns):\n",
      " #   Column           Non-Null Count  Dtype  \n",
      "---  ------           --------------  -----  \n",
      " 0   PID              2051 non-null   int64  \n",
      " 1   MS SubClass      2051 non-null   int64  \n",
      " 2   MS Zoning        2051 non-null   object \n",
      " 3   Lot Frontage     1721 non-null   float64\n",
      " 4   Lot Area         2051 non-null   int64  \n",
      " 5   Street           2051 non-null   object \n",
      " 6   Alley            140 non-null    object \n",
      " 7   Lot Shape        2051 non-null   object \n",
      " 8   Land Contour     2051 non-null   object \n",
      " 9   Utilities        2051 non-null   object \n",
      " 10  Lot Config       2051 non-null   object \n",
      " 11  Land Slope       2051 non-null   object \n",
      " 12  Neighborhood     2051 non-null   object \n",
      " 13  Condition 1      2051 non-null   object \n",
      " 14  Condition 2      2051 non-null   object \n",
      " 15  Bldg Type        2051 non-null   object \n",
      " 16  House Style      2051 non-null   object \n",
      " 17  Overall Qual     2051 non-null   int64  \n",
      " 18  Overall Cond     2051 non-null   int64  \n",
      " 19  Year Built       2051 non-null   int64  \n",
      " 20  Year Remod/Add   2051 non-null   int64  \n",
      " 21  Roof Style       2051 non-null   object \n",
      " 22  Roof Matl        2051 non-null   object \n",
      " 23  Exterior 1st     2051 non-null   object \n",
      " 24  Exterior 2nd     2051 non-null   object \n",
      " 25  Mas Vnr Type     2029 non-null   object \n",
      " 26  Mas Vnr Area     2029 non-null   float64\n",
      " 27  Exter Qual       2051 non-null   object \n",
      " 28  Exter Cond       2051 non-null   object \n",
      " 29  Foundation       2051 non-null   object \n",
      " 30  Bsmt Qual        1996 non-null   object \n",
      " 31  Bsmt Cond        1996 non-null   object \n",
      " 32  Bsmt Exposure    1993 non-null   object \n",
      " 33  BsmtFin Type 1   1996 non-null   object \n",
      " 34  BsmtFin SF 1     2050 non-null   float64\n",
      " 35  BsmtFin Type 2   1995 non-null   object \n",
      " 36  BsmtFin SF 2     2050 non-null   float64\n",
      " 37  Bsmt Unf SF      2050 non-null   float64\n",
      " 38  Total Bsmt SF    2050 non-null   float64\n",
      " 39  Heating          2051 non-null   object \n",
      " 40  Heating QC       2051 non-null   object \n",
      " 41  Central Air      2051 non-null   object \n",
      " 42  Electrical       2051 non-null   object \n",
      " 43  1st Flr SF       2051 non-null   int64  \n",
      " 44  2nd Flr SF       2051 non-null   int64  \n",
      " 45  Low Qual Fin SF  2051 non-null   int64  \n",
      " 46  Gr Liv Area      2051 non-null   int64  \n",
      " 47  Bsmt Full Bath   2049 non-null   float64\n",
      " 48  Bsmt Half Bath   2049 non-null   float64\n",
      " 49  Full Bath        2051 non-null   int64  \n",
      " 50  Half Bath        2051 non-null   int64  \n",
      " 51  Bedroom AbvGr    2051 non-null   int64  \n",
      " 52  Kitchen AbvGr    2051 non-null   int64  \n",
      " 53  Kitchen Qual     2051 non-null   object \n",
      " 54  TotRms AbvGrd    2051 non-null   int64  \n",
      " 55  Functional       2051 non-null   object \n",
      " 56  Fireplaces       2051 non-null   int64  \n",
      " 57  Fireplace Qu     1051 non-null   object \n",
      " 58  Garage Type      1938 non-null   object \n",
      " 59  Garage Yr Blt    1937 non-null   float64\n",
      " 60  Garage Finish    1937 non-null   object \n",
      " 61  Garage Cars      2050 non-null   float64\n",
      " 62  Garage Area      2050 non-null   float64\n",
      " 63  Garage Qual      1937 non-null   object \n",
      " 64  Garage Cond      1937 non-null   object \n",
      " 65  Paved Drive      2051 non-null   object \n",
      " 66  Wood Deck SF     2051 non-null   int64  \n",
      " 67  Open Porch SF    2051 non-null   int64  \n",
      " 68  Enclosed Porch   2051 non-null   int64  \n",
      " 69  3Ssn Porch       2051 non-null   int64  \n",
      " 70  Screen Porch     2051 non-null   int64  \n",
      " 71  Pool Area        2051 non-null   int64  \n",
      " 72  Pool QC          9 non-null      object \n",
      " 73  Fence            400 non-null    object \n",
      " 74  Misc Feature     65 non-null     object \n",
      " 75  Misc Val         2051 non-null   int64  \n",
      " 76  Mo Sold          2051 non-null   int64  \n",
      " 77  Yr Sold          2051 non-null   int64  \n",
      " 78  Sale Type        2051 non-null   object \n",
      " 79  SalePrice        2051 non-null   int64  \n",
      "dtypes: float64(11), int64(27), object(42)\n",
      "memory usage: 1.3+ MB\n"
     ]
    }
   ],
   "source": [
    "train_ames.info()"
   ]
  },
  {
   "cell_type": "code",
   "execution_count": 82,
   "id": "e194a4be",
   "metadata": {},
   "outputs": [],
   "source": [
    "all_numeric = train_ames._get_numeric_data()"
   ]
  },
  {
   "cell_type": "code",
   "execution_count": 83,
   "id": "018abe29",
   "metadata": {
    "scrolled": true
   },
   "outputs": [
    {
     "data": {
      "text/plain": [
       "PID                  0\n",
       "MS SubClass          0\n",
       "Lot Frontage       330\n",
       "Lot Area             0\n",
       "Overall Qual         0\n",
       "Overall Cond         0\n",
       "Year Built           0\n",
       "Year Remod/Add       0\n",
       "Mas Vnr Area        22\n",
       "BsmtFin SF 1         1\n",
       "BsmtFin SF 2         1\n",
       "Bsmt Unf SF          1\n",
       "Total Bsmt SF        1\n",
       "1st Flr SF           0\n",
       "2nd Flr SF           0\n",
       "Low Qual Fin SF      0\n",
       "Gr Liv Area          0\n",
       "Bsmt Full Bath       2\n",
       "Bsmt Half Bath       2\n",
       "Full Bath            0\n",
       "Half Bath            0\n",
       "Bedroom AbvGr        0\n",
       "Kitchen AbvGr        0\n",
       "TotRms AbvGrd        0\n",
       "Fireplaces           0\n",
       "Garage Yr Blt      114\n",
       "Garage Cars          1\n",
       "Garage Area          1\n",
       "Wood Deck SF         0\n",
       "Open Porch SF        0\n",
       "Enclosed Porch       0\n",
       "3Ssn Porch           0\n",
       "Screen Porch         0\n",
       "Pool Area            0\n",
       "Misc Val             0\n",
       "Mo Sold              0\n",
       "Yr Sold              0\n",
       "SalePrice            0\n",
       "dtype: int64"
      ]
     },
     "execution_count": 83,
     "metadata": {},
     "output_type": "execute_result"
    }
   ],
   "source": [
    "all_numeric.isnull().sum()"
   ]
  },
  {
   "cell_type": "code",
   "execution_count": 84,
   "id": "abc9b33c",
   "metadata": {
    "scrolled": true
   },
   "outputs": [
    {
     "data": {
      "text/plain": [
       "Lot Frontage    69.0552\n",
       "dtype: float64"
      ]
     },
     "execution_count": 84,
     "metadata": {},
     "output_type": "execute_result"
    }
   ],
   "source": [
    "all_numeric[[\"Lot Frontage\"]].mean()"
   ]
  },
  {
   "cell_type": "code",
   "execution_count": 85,
   "id": "93ea9c99",
   "metadata": {},
   "outputs": [
    {
     "data": {
      "text/html": [
       "<div>\n",
       "<style scoped>\n",
       "    .dataframe tbody tr th:only-of-type {\n",
       "        vertical-align: middle;\n",
       "    }\n",
       "\n",
       "    .dataframe tbody tr th {\n",
       "        vertical-align: top;\n",
       "    }\n",
       "\n",
       "    .dataframe thead th {\n",
       "        text-align: right;\n",
       "    }\n",
       "</style>\n",
       "<table border=\"1\" class=\"dataframe\">\n",
       "  <thead>\n",
       "    <tr style=\"text-align: right;\">\n",
       "      <th></th>\n",
       "      <th>Lot Frontage</th>\n",
       "    </tr>\n",
       "    <tr>\n",
       "      <th>Id</th>\n",
       "      <th></th>\n",
       "    </tr>\n",
       "  </thead>\n",
       "  <tbody>\n",
       "    <tr>\n",
       "      <th>109</th>\n",
       "      <td>NaN</td>\n",
       "    </tr>\n",
       "    <tr>\n",
       "      <th>544</th>\n",
       "      <td>43.0</td>\n",
       "    </tr>\n",
       "    <tr>\n",
       "      <th>153</th>\n",
       "      <td>68.0</td>\n",
       "    </tr>\n",
       "    <tr>\n",
       "      <th>318</th>\n",
       "      <td>73.0</td>\n",
       "    </tr>\n",
       "    <tr>\n",
       "      <th>255</th>\n",
       "      <td>82.0</td>\n",
       "    </tr>\n",
       "    <tr>\n",
       "      <th>...</th>\n",
       "      <td>...</td>\n",
       "    </tr>\n",
       "    <tr>\n",
       "      <th>1587</th>\n",
       "      <td>79.0</td>\n",
       "    </tr>\n",
       "    <tr>\n",
       "      <th>785</th>\n",
       "      <td>NaN</td>\n",
       "    </tr>\n",
       "    <tr>\n",
       "      <th>916</th>\n",
       "      <td>57.0</td>\n",
       "    </tr>\n",
       "    <tr>\n",
       "      <th>639</th>\n",
       "      <td>80.0</td>\n",
       "    </tr>\n",
       "    <tr>\n",
       "      <th>10</th>\n",
       "      <td>60.0</td>\n",
       "    </tr>\n",
       "  </tbody>\n",
       "</table>\n",
       "<p>2051 rows × 1 columns</p>\n",
       "</div>"
      ],
      "text/plain": [
       "      Lot Frontage\n",
       "Id                \n",
       "109            NaN\n",
       "544           43.0\n",
       "153           68.0\n",
       "318           73.0\n",
       "255           82.0\n",
       "...            ...\n",
       "1587          79.0\n",
       "785            NaN\n",
       "916           57.0\n",
       "639           80.0\n",
       "10            60.0\n",
       "\n",
       "[2051 rows x 1 columns]"
      ]
     },
     "execution_count": 85,
     "metadata": {},
     "output_type": "execute_result"
    }
   ],
   "source": [
    "all_numeric[[\"Lot Frontage\"]]"
   ]
  },
  {
   "cell_type": "code",
   "execution_count": 86,
   "id": "63f21bff",
   "metadata": {},
   "outputs": [],
   "source": [
    "median_lot_frontage = all_numeric[\"Lot Frontage\"].median()"
   ]
  },
  {
   "cell_type": "code",
   "execution_count": 87,
   "id": "1a72f272",
   "metadata": {},
   "outputs": [],
   "source": [
    "## I will replace NaN values in Lot Frontage with median value of all lot frontages which is 68.0\n",
    "all_numeric[\"Lot Frontage\"].fillna(median_lot_frontage, inplace=True)"
   ]
  },
  {
   "cell_type": "code",
   "execution_count": 88,
   "id": "f156e2cd",
   "metadata": {},
   "outputs": [],
   "source": [
    "median_gr_yr_blt = all_numeric[\"Garage Yr Blt\"].median()"
   ]
  },
  {
   "cell_type": "code",
   "execution_count": 89,
   "id": "66fdafc3",
   "metadata": {},
   "outputs": [],
   "source": [
    "## I will replace NaN values in Lot Frontage with median value of all lot frontages which is 68.0\n",
    "all_numeric[\"Garage Yr Blt\"].fillna(median_gr_yr_blt, inplace=True)"
   ]
  },
  {
   "cell_type": "code",
   "execution_count": 90,
   "id": "5111f15a",
   "metadata": {},
   "outputs": [
    {
     "data": {
      "text/plain": [
       "Garage Yr Blt    0\n",
       "dtype: int64"
      ]
     },
     "execution_count": 90,
     "metadata": {},
     "output_type": "execute_result"
    }
   ],
   "source": [
    "all_numeric[[\"Garage Yr Blt\"]].isnull().sum()"
   ]
  },
  {
   "cell_type": "code",
   "execution_count": 91,
   "id": "0c405750",
   "metadata": {},
   "outputs": [],
   "source": [
    "## dropping these because I already looked at them and decided that I don't want to use them\n",
    "all_numeric.drop(columns=[\"MS SubClass\", \"Overall Cond\"], axis=1, inplace=True)"
   ]
  },
  {
   "cell_type": "code",
   "execution_count": 92,
   "id": "6ee04201",
   "metadata": {},
   "outputs": [
    {
     "name": "stdout",
     "output_type": "stream",
     "text": [
      "<class 'pandas.core.frame.DataFrame'>\n",
      "Int64Index: 2051 entries, 109 to 10\n",
      "Data columns (total 36 columns):\n",
      " #   Column           Non-Null Count  Dtype  \n",
      "---  ------           --------------  -----  \n",
      " 0   PID              2051 non-null   int64  \n",
      " 1   Lot Frontage     2051 non-null   float64\n",
      " 2   Lot Area         2051 non-null   int64  \n",
      " 3   Overall Qual     2051 non-null   int64  \n",
      " 4   Year Built       2051 non-null   int64  \n",
      " 5   Year Remod/Add   2051 non-null   int64  \n",
      " 6   Mas Vnr Area     2029 non-null   float64\n",
      " 7   BsmtFin SF 1     2050 non-null   float64\n",
      " 8   BsmtFin SF 2     2050 non-null   float64\n",
      " 9   Bsmt Unf SF      2050 non-null   float64\n",
      " 10  Total Bsmt SF    2050 non-null   float64\n",
      " 11  1st Flr SF       2051 non-null   int64  \n",
      " 12  2nd Flr SF       2051 non-null   int64  \n",
      " 13  Low Qual Fin SF  2051 non-null   int64  \n",
      " 14  Gr Liv Area      2051 non-null   int64  \n",
      " 15  Bsmt Full Bath   2049 non-null   float64\n",
      " 16  Bsmt Half Bath   2049 non-null   float64\n",
      " 17  Full Bath        2051 non-null   int64  \n",
      " 18  Half Bath        2051 non-null   int64  \n",
      " 19  Bedroom AbvGr    2051 non-null   int64  \n",
      " 20  Kitchen AbvGr    2051 non-null   int64  \n",
      " 21  TotRms AbvGrd    2051 non-null   int64  \n",
      " 22  Fireplaces       2051 non-null   int64  \n",
      " 23  Garage Yr Blt    2051 non-null   float64\n",
      " 24  Garage Cars      2050 non-null   float64\n",
      " 25  Garage Area      2050 non-null   float64\n",
      " 26  Wood Deck SF     2051 non-null   int64  \n",
      " 27  Open Porch SF    2051 non-null   int64  \n",
      " 28  Enclosed Porch   2051 non-null   int64  \n",
      " 29  3Ssn Porch       2051 non-null   int64  \n",
      " 30  Screen Porch     2051 non-null   int64  \n",
      " 31  Pool Area        2051 non-null   int64  \n",
      " 32  Misc Val         2051 non-null   int64  \n",
      " 33  Mo Sold          2051 non-null   int64  \n",
      " 34  Yr Sold          2051 non-null   int64  \n",
      " 35  SalePrice        2051 non-null   int64  \n",
      "dtypes: float64(11), int64(25)\n",
      "memory usage: 592.9 KB\n"
     ]
    }
   ],
   "source": [
    "all_numeric.info()"
   ]
  },
  {
   "cell_type": "code",
   "execution_count": 93,
   "id": "6ccfd079",
   "metadata": {},
   "outputs": [],
   "source": [
    "## also dropping these columns because they are in DF 1; where I cleaned the first 20 columns\n",
    "all_numeric.drop(columns=[\"PID\", \"Lot Area\", \"Overall Qual\", \"Year Built\", \"Year Remod/Add\"], inplace=True)"
   ]
  },
  {
   "cell_type": "code",
   "execution_count": 94,
   "id": "141d43e8",
   "metadata": {},
   "outputs": [],
   "source": [
    "all_numeric.drop(columns=[\"BsmtFin SF 2\", \"Bsmt Unf SF\", \"Bsmt Half Bath\", \"Low Qual Fin SF\",\"Bedroom AbvGr\", \n",
    "                          \"Kitchen AbvGr\",\"Enclosed Porch\", \"3Ssn Porch\",\"Screen Porch\", \"Pool Area\", \"Misc Val\", \"Mo Sold\", \n",
    "                          \"Yr Sold\", \"Kitchen AbvGr\"],inplace=True)"
   ]
  },
  {
   "cell_type": "code",
   "execution_count": 95,
   "id": "4f3285af",
   "metadata": {},
   "outputs": [
    {
     "name": "stdout",
     "output_type": "stream",
     "text": [
      "<class 'pandas.core.frame.DataFrame'>\n",
      "Int64Index: 2051 entries, 109 to 10\n",
      "Data columns (total 18 columns):\n",
      " #   Column          Non-Null Count  Dtype  \n",
      "---  ------          --------------  -----  \n",
      " 0   Lot Frontage    2051 non-null   float64\n",
      " 1   Mas Vnr Area    2029 non-null   float64\n",
      " 2   BsmtFin SF 1    2050 non-null   float64\n",
      " 3   Total Bsmt SF   2050 non-null   float64\n",
      " 4   1st Flr SF      2051 non-null   int64  \n",
      " 5   2nd Flr SF      2051 non-null   int64  \n",
      " 6   Gr Liv Area     2051 non-null   int64  \n",
      " 7   Bsmt Full Bath  2049 non-null   float64\n",
      " 8   Full Bath       2051 non-null   int64  \n",
      " 9   Half Bath       2051 non-null   int64  \n",
      " 10  TotRms AbvGrd   2051 non-null   int64  \n",
      " 11  Fireplaces      2051 non-null   int64  \n",
      " 12  Garage Yr Blt   2051 non-null   float64\n",
      " 13  Garage Cars     2050 non-null   float64\n",
      " 14  Garage Area     2050 non-null   float64\n",
      " 15  Wood Deck SF    2051 non-null   int64  \n",
      " 16  Open Porch SF   2051 non-null   int64  \n",
      " 17  SalePrice       2051 non-null   int64  \n",
      "dtypes: float64(8), int64(10)\n",
      "memory usage: 304.4 KB\n"
     ]
    }
   ],
   "source": [
    "all_numeric.info()"
   ]
  },
  {
   "cell_type": "code",
   "execution_count": 96,
   "id": "bc203d91",
   "metadata": {},
   "outputs": [
    {
     "data": {
      "text/plain": [
       "Lot Frontage       0\n",
       "Mas Vnr Area      22\n",
       "BsmtFin SF 1       1\n",
       "Total Bsmt SF      1\n",
       "1st Flr SF         0\n",
       "2nd Flr SF         0\n",
       "Gr Liv Area        0\n",
       "Bsmt Full Bath     2\n",
       "Full Bath          0\n",
       "Half Bath          0\n",
       "TotRms AbvGrd      0\n",
       "Fireplaces         0\n",
       "Garage Yr Blt      0\n",
       "Garage Cars        1\n",
       "Garage Area        1\n",
       "Wood Deck SF       0\n",
       "Open Porch SF      0\n",
       "SalePrice          0\n",
       "dtype: int64"
      ]
     },
     "execution_count": 96,
     "metadata": {},
     "output_type": "execute_result"
    }
   ],
   "source": [
    "all_numeric.isnull().sum()"
   ]
  },
  {
   "cell_type": "code",
   "execution_count": 97,
   "id": "f2e634bd",
   "metadata": {
    "scrolled": true
   },
   "outputs": [
    {
     "data": {
      "text/plain": [
       "Mas Vnr Area    0.0\n",
       "dtype: float64"
      ]
     },
     "execution_count": 97,
     "metadata": {},
     "output_type": "execute_result"
    }
   ],
   "source": [
    "## going to fill the NaN with 0.0 since that is the median value\n",
    "all_numeric[[\"Mas Vnr Area\"]].median()"
   ]
  },
  {
   "cell_type": "code",
   "execution_count": 98,
   "id": "e49e5d34",
   "metadata": {},
   "outputs": [],
   "source": [
    "all_numeric[\"Mas Vnr Area\"].fillna(0.0,inplace=True)"
   ]
  },
  {
   "cell_type": "code",
   "execution_count": 99,
   "id": "63dd2d65",
   "metadata": {},
   "outputs": [],
   "source": [
    "all_numeric[\"BsmtFin SF 1\"].fillna(0,inplace=True)"
   ]
  },
  {
   "cell_type": "code",
   "execution_count": 100,
   "id": "41788078",
   "metadata": {},
   "outputs": [],
   "source": [
    "median_total_bsmt = all_numeric[\"Total Bsmt SF\"].median()"
   ]
  },
  {
   "cell_type": "code",
   "execution_count": 101,
   "id": "e3b8288f",
   "metadata": {},
   "outputs": [],
   "source": [
    "all_numeric[\"Total Bsmt SF\"].fillna(median_total_bsmt, inplace=True)"
   ]
  },
  {
   "cell_type": "code",
   "execution_count": 102,
   "id": "f22bf339",
   "metadata": {},
   "outputs": [],
   "source": [
    "m_bfb = all_numeric[\"Bsmt Full Bath\"].median()"
   ]
  },
  {
   "cell_type": "code",
   "execution_count": 103,
   "id": "bf18752b",
   "metadata": {},
   "outputs": [],
   "source": [
    "all_numeric[\"Bsmt Full Bath\"].fillna(m_bfb, inplace=True)"
   ]
  },
  {
   "cell_type": "code",
   "execution_count": 104,
   "id": "e6d7e8ef",
   "metadata": {},
   "outputs": [],
   "source": [
    "m_garage_cars = all_numeric[\"Garage Cars\"].median()"
   ]
  },
  {
   "cell_type": "code",
   "execution_count": 105,
   "id": "97975b79",
   "metadata": {},
   "outputs": [],
   "source": [
    "all_numeric[\"Garage Cars\"].fillna(m_garage_cars, inplace= True)"
   ]
  },
  {
   "cell_type": "code",
   "execution_count": 106,
   "id": "8968ada8",
   "metadata": {},
   "outputs": [],
   "source": [
    "median_ga = all_numeric[\"Garage Area\"].median()"
   ]
  },
  {
   "cell_type": "code",
   "execution_count": 107,
   "id": "5fac5cdc",
   "metadata": {},
   "outputs": [],
   "source": [
    "all_numeric[\"Garage Area\"].fillna(m_garage_cars, inplace= True)"
   ]
  },
  {
   "cell_type": "markdown",
   "id": "9855fb10",
   "metadata": {},
   "source": [
    "### Adding some categorical data to second DF"
   ]
  },
  {
   "cell_type": "code",
   "execution_count": 108,
   "id": "db3e5cbb",
   "metadata": {},
   "outputs": [],
   "source": [
    "## I am going to add kitchen quality to second df (using dummy vars); only cat value with high corr and 0 nulls.\n",
    "all_numeric[\"Kitchen Qual\"] = train_ames[\"Kitchen Qual\"]"
   ]
  },
  {
   "cell_type": "code",
   "execution_count": 109,
   "id": "caa48072",
   "metadata": {},
   "outputs": [],
   "source": [
    "all_numeric = pd.get_dummies(columns=[\"Kitchen Qual\"],drop_first=True, data=all_numeric)"
   ]
  },
  {
   "cell_type": "code",
   "execution_count": 110,
   "id": "076d7b48",
   "metadata": {},
   "outputs": [],
   "source": [
    "features_one_train.drop(columns = [\"SalePrice\"], inplace=True)"
   ]
  },
  {
   "cell_type": "code",
   "execution_count": 111,
   "id": "96e4e6c3",
   "metadata": {},
   "outputs": [],
   "source": [
    "## joining both dataframes\n",
    "complete_train = all_numeric.join(features_one_train)"
   ]
  },
  {
   "cell_type": "markdown",
   "id": "05e8ecc6",
   "metadata": {},
   "source": [
    "### First training DF"
   ]
  },
  {
   "cell_type": "code",
   "execution_count": 112,
   "id": "cdc7144f",
   "metadata": {},
   "outputs": [
    {
     "data": {
      "text/html": [
       "<div>\n",
       "<style scoped>\n",
       "    .dataframe tbody tr th:only-of-type {\n",
       "        vertical-align: middle;\n",
       "    }\n",
       "\n",
       "    .dataframe tbody tr th {\n",
       "        vertical-align: top;\n",
       "    }\n",
       "\n",
       "    .dataframe thead th {\n",
       "        text-align: right;\n",
       "    }\n",
       "</style>\n",
       "<table border=\"1\" class=\"dataframe\">\n",
       "  <thead>\n",
       "    <tr style=\"text-align: right;\">\n",
       "      <th></th>\n",
       "      <th>Lot Frontage</th>\n",
       "      <th>Mas Vnr Area</th>\n",
       "      <th>BsmtFin SF 1</th>\n",
       "      <th>Total Bsmt SF</th>\n",
       "      <th>1st Flr SF</th>\n",
       "      <th>2nd Flr SF</th>\n",
       "      <th>Gr Liv Area</th>\n",
       "      <th>Bsmt Full Bath</th>\n",
       "      <th>Full Bath</th>\n",
       "      <th>Half Bath</th>\n",
       "      <th>...</th>\n",
       "      <th>Neighborhood_NoRidge</th>\n",
       "      <th>Neighborhood_NridgHt</th>\n",
       "      <th>Neighborhood_OldTown</th>\n",
       "      <th>Neighborhood_SWISU</th>\n",
       "      <th>Neighborhood_Sawyer</th>\n",
       "      <th>Neighborhood_SawyerW</th>\n",
       "      <th>Neighborhood_Somerst</th>\n",
       "      <th>Neighborhood_StoneBr</th>\n",
       "      <th>Neighborhood_Timber</th>\n",
       "      <th>Neighborhood_Veenker</th>\n",
       "    </tr>\n",
       "    <tr>\n",
       "      <th>Id</th>\n",
       "      <th></th>\n",
       "      <th></th>\n",
       "      <th></th>\n",
       "      <th></th>\n",
       "      <th></th>\n",
       "      <th></th>\n",
       "      <th></th>\n",
       "      <th></th>\n",
       "      <th></th>\n",
       "      <th></th>\n",
       "      <th></th>\n",
       "      <th></th>\n",
       "      <th></th>\n",
       "      <th></th>\n",
       "      <th></th>\n",
       "      <th></th>\n",
       "      <th></th>\n",
       "      <th></th>\n",
       "      <th></th>\n",
       "      <th></th>\n",
       "      <th></th>\n",
       "    </tr>\n",
       "  </thead>\n",
       "  <tbody>\n",
       "    <tr>\n",
       "      <th>109</th>\n",
       "      <td>68.0</td>\n",
       "      <td>289.0</td>\n",
       "      <td>533.0</td>\n",
       "      <td>725.0</td>\n",
       "      <td>725</td>\n",
       "      <td>754</td>\n",
       "      <td>1479</td>\n",
       "      <td>0.0</td>\n",
       "      <td>2</td>\n",
       "      <td>1</td>\n",
       "      <td>...</td>\n",
       "      <td>0</td>\n",
       "      <td>0</td>\n",
       "      <td>0</td>\n",
       "      <td>0</td>\n",
       "      <td>1</td>\n",
       "      <td>0</td>\n",
       "      <td>0</td>\n",
       "      <td>0</td>\n",
       "      <td>0</td>\n",
       "      <td>0</td>\n",
       "    </tr>\n",
       "    <tr>\n",
       "      <th>544</th>\n",
       "      <td>43.0</td>\n",
       "      <td>132.0</td>\n",
       "      <td>637.0</td>\n",
       "      <td>913.0</td>\n",
       "      <td>913</td>\n",
       "      <td>1209</td>\n",
       "      <td>2122</td>\n",
       "      <td>1.0</td>\n",
       "      <td>2</td>\n",
       "      <td>1</td>\n",
       "      <td>...</td>\n",
       "      <td>0</td>\n",
       "      <td>0</td>\n",
       "      <td>0</td>\n",
       "      <td>0</td>\n",
       "      <td>0</td>\n",
       "      <td>1</td>\n",
       "      <td>0</td>\n",
       "      <td>0</td>\n",
       "      <td>0</td>\n",
       "      <td>0</td>\n",
       "    </tr>\n",
       "    <tr>\n",
       "      <th>153</th>\n",
       "      <td>68.0</td>\n",
       "      <td>0.0</td>\n",
       "      <td>731.0</td>\n",
       "      <td>1057.0</td>\n",
       "      <td>1057</td>\n",
       "      <td>0</td>\n",
       "      <td>1057</td>\n",
       "      <td>1.0</td>\n",
       "      <td>1</td>\n",
       "      <td>0</td>\n",
       "      <td>...</td>\n",
       "      <td>0</td>\n",
       "      <td>0</td>\n",
       "      <td>0</td>\n",
       "      <td>0</td>\n",
       "      <td>0</td>\n",
       "      <td>0</td>\n",
       "      <td>0</td>\n",
       "      <td>0</td>\n",
       "      <td>0</td>\n",
       "      <td>0</td>\n",
       "    </tr>\n",
       "    <tr>\n",
       "      <th>318</th>\n",
       "      <td>73.0</td>\n",
       "      <td>0.0</td>\n",
       "      <td>0.0</td>\n",
       "      <td>384.0</td>\n",
       "      <td>744</td>\n",
       "      <td>700</td>\n",
       "      <td>1444</td>\n",
       "      <td>0.0</td>\n",
       "      <td>2</td>\n",
       "      <td>1</td>\n",
       "      <td>...</td>\n",
       "      <td>0</td>\n",
       "      <td>0</td>\n",
       "      <td>0</td>\n",
       "      <td>0</td>\n",
       "      <td>0</td>\n",
       "      <td>0</td>\n",
       "      <td>0</td>\n",
       "      <td>0</td>\n",
       "      <td>1</td>\n",
       "      <td>0</td>\n",
       "    </tr>\n",
       "    <tr>\n",
       "      <th>255</th>\n",
       "      <td>82.0</td>\n",
       "      <td>0.0</td>\n",
       "      <td>0.0</td>\n",
       "      <td>676.0</td>\n",
       "      <td>831</td>\n",
       "      <td>614</td>\n",
       "      <td>1445</td>\n",
       "      <td>0.0</td>\n",
       "      <td>2</td>\n",
       "      <td>0</td>\n",
       "      <td>...</td>\n",
       "      <td>0</td>\n",
       "      <td>0</td>\n",
       "      <td>0</td>\n",
       "      <td>0</td>\n",
       "      <td>0</td>\n",
       "      <td>1</td>\n",
       "      <td>0</td>\n",
       "      <td>0</td>\n",
       "      <td>0</td>\n",
       "      <td>0</td>\n",
       "    </tr>\n",
       "  </tbody>\n",
       "</table>\n",
       "<p>5 rows × 53 columns</p>\n",
       "</div>"
      ],
      "text/plain": [
       "     Lot Frontage  Mas Vnr Area  BsmtFin SF 1  Total Bsmt SF  1st Flr SF  \\\n",
       "Id                                                                         \n",
       "109          68.0         289.0         533.0          725.0         725   \n",
       "544          43.0         132.0         637.0          913.0         913   \n",
       "153          68.0           0.0         731.0         1057.0        1057   \n",
       "318          73.0           0.0           0.0          384.0         744   \n",
       "255          82.0           0.0           0.0          676.0         831   \n",
       "\n",
       "     2nd Flr SF  Gr Liv Area  Bsmt Full Bath  Full Bath  Half Bath  ...  \\\n",
       "Id                                                                  ...   \n",
       "109         754         1479             0.0          2          1  ...   \n",
       "544        1209         2122             1.0          2          1  ...   \n",
       "153           0         1057             1.0          1          0  ...   \n",
       "318         700         1444             0.0          2          1  ...   \n",
       "255         614         1445             0.0          2          0  ...   \n",
       "\n",
       "     Neighborhood_NoRidge  Neighborhood_NridgHt  Neighborhood_OldTown  \\\n",
       "Id                                                                      \n",
       "109                     0                     0                     0   \n",
       "544                     0                     0                     0   \n",
       "153                     0                     0                     0   \n",
       "318                     0                     0                     0   \n",
       "255                     0                     0                     0   \n",
       "\n",
       "     Neighborhood_SWISU  Neighborhood_Sawyer  Neighborhood_SawyerW  \\\n",
       "Id                                                                   \n",
       "109                   0                    1                     0   \n",
       "544                   0                    0                     1   \n",
       "153                   0                    0                     0   \n",
       "318                   0                    0                     0   \n",
       "255                   0                    0                     1   \n",
       "\n",
       "     Neighborhood_Somerst  Neighborhood_StoneBr  Neighborhood_Timber  \\\n",
       "Id                                                                     \n",
       "109                     0                     0                    0   \n",
       "544                     0                     0                    0   \n",
       "153                     0                     0                    0   \n",
       "318                     0                     0                    1   \n",
       "255                     0                     0                    0   \n",
       "\n",
       "     Neighborhood_Veenker  \n",
       "Id                         \n",
       "109                     0  \n",
       "544                     0  \n",
       "153                     0  \n",
       "318                     0  \n",
       "255                     0  \n",
       "\n",
       "[5 rows x 53 columns]"
      ]
     },
     "execution_count": 112,
     "metadata": {},
     "output_type": "execute_result"
    }
   ],
   "source": [
    "complete_train.head()"
   ]
  },
  {
   "cell_type": "code",
   "execution_count": 113,
   "id": "dd8331d1",
   "metadata": {},
   "outputs": [
    {
     "data": {
      "image/png": "[encoded data removed]",
      "text/plain": [
       "<Figure size 1080x180 with 7 Axes>"
      ]
     },
     "metadata": {
      "needs_background": "light"
     },
     "output_type": "display_data"
    }
   ],
   "source": [
    "sns.pairplot(data=complete_train, y_vars = [\"SalePrice\"], x_vars = ['Lot Frontage', 'Overall Qual', 'Overall Cond','Year Built', 'Year Remod/Add',\n",
    "       'SalePrice']);"
   ]
  },
  {
   "cell_type": "code",
   "execution_count": 115,
   "id": "53269f93",
   "metadata": {},
   "outputs": [],
   "source": [
    "log_sales = np.log(complete_train[\"SalePrice\"])"
   ]
  },
  {
   "cell_type": "code",
   "execution_count": 118,
   "id": "bfdb4235",
   "metadata": {},
   "outputs": [
    {
     "data": {
      "image/png": "[encoded data removed]",
      "text/plain": [
       "<Figure size 432x288 with 1 Axes>"
      ]
     },
     "metadata": {
      "needs_background": "light"
     },
     "output_type": "display_data"
    }
   ],
   "source": [
    "complete_train[\"SalePrice\"].hist();"
   ]
  },
  {
   "cell_type": "code",
   "execution_count": 131,
   "id": "9b0d4112",
   "metadata": {},
   "outputs": [
    {
     "data": {
      "image/png": "[encoded data removed]",
      "text/plain": [
       "<Figure size 432x288 with 1 Axes>"
      ]
     },
     "metadata": {
      "needs_background": "light"
     },
     "output_type": "display_data"
    }
   ],
   "source": [
    "log_sales.hist();"
   ]
  },
  {
   "cell_type": "code",
   "execution_count": 127,
   "id": "a8567cc6",
   "metadata": {},
   "outputs": [
    {
     "data": {
      "image/png": "[encoded data removed]",
      "text/plain": [
       "<Figure size 432x288 with 1 Axes>"
      ]
     },
     "metadata": {
      "needs_background": "light"
     },
     "output_type": "display_data"
    }
   ],
   "source": [
    "ax = sns.regplot(data=complete_train, x=complete_train[\"Lot Frontage\"], y=complete_train[\"SalePrice\"], fit_reg=True, truncate=False)"
   ]
  },
  {
   "cell_type": "code",
   "execution_count": 125,
   "id": "c56503ca",
   "metadata": {},
   "outputs": [
    {
     "data": {
      "text/plain": [
       "<AxesSubplot:xlabel='Lot Frontage', ylabel='SalePrice'>"
      ]
     },
     "execution_count": 125,
     "metadata": {},
     "output_type": "execute_result"
    },
    {
     "data": {
      "image/png": "[encoded data removed]",
      "text/plain": [
       "<Figure size 432x288 with 1 Axes>"
      ]
     },
     "metadata": {
      "needs_background": "light"
     },
     "output_type": "display_data"
    }
   ],
   "source": [
    "y_log = np.log(complete_train[\"SalePrice\"])\n",
    "sns.regplot(data=complete_train, x=complete_train[\"Lot Frontage\"], y= y_log, fit_reg=True, truncate=False);"
   ]
  },
  {
   "cell_type": "code",
   "execution_count": 128,
   "id": "f545740a",
   "metadata": {},
   "outputs": [
    {
     "data": {
      "image/png": "[encoded data removed]",
      "text/plain": [
       "<Figure size 432x288 with 1 Axes>"
      ]
     },
     "metadata": {
      "needs_background": "light"
     },
     "output_type": "display_data"
    }
   ],
   "source": [
    "ax = sns.regplot(data=complete_train, x=complete_train['Year Built'], y=complete_train[\"SalePrice\"], fit_reg=True, truncate=False)"
   ]
  },
  {
   "cell_type": "code",
   "execution_count": 129,
   "id": "08c309e2",
   "metadata": {},
   "outputs": [
    {
     "data": {
      "image/png": "[encoded data removed]",
      "text/plain": [
       "<Figure size 432x288 with 1 Axes>"
      ]
     },
     "metadata": {
      "needs_background": "light"
     },
     "output_type": "display_data"
    }
   ],
   "source": [
    "sns.regplot(data=complete_train, x=complete_train[\"Year Built\"], y= y_log, fit_reg=True, truncate=False);"
   ]
  },
  {
   "cell_type": "code",
   "execution_count": null,
   "id": "2a334809",
   "metadata": {},
   "outputs": [],
   "source": []
  },
  {
   "cell_type": "code",
   "execution_count": null,
   "id": "87e35f46",
   "metadata": {},
   "outputs": [],
   "source": []
  },
  {
   "cell_type": "code",
   "execution_count": null,
   "id": "414622be",
   "metadata": {},
   "outputs": [],
   "source": []
  },
  {
   "cell_type": "code",
   "execution_count": null,
   "id": "7f7f24a1",
   "metadata": {},
   "outputs": [],
   "source": []
  },
  {
   "cell_type": "code",
   "execution_count": null,
   "id": "2121825b",
   "metadata": {},
   "outputs": [],
   "source": []
  },
  {
   "cell_type": "code",
   "execution_count": null,
   "id": "d604bd5e",
   "metadata": {},
   "outputs": [],
   "source": []
  },
  {
   "cell_type": "code",
   "execution_count": null,
   "id": "d2d90e81",
   "metadata": {},
   "outputs": [],
   "source": []
  },
  {
   "cell_type": "code",
   "execution_count": null,
   "id": "90ce6b20",
   "metadata": {},
   "outputs": [],
   "source": []
  }
 ],
 "metadata": {
  "kernelspec": {
   "display_name": "Python 3",
   "language": "python",
   "name": "python3"
  },
  "language_info": {
   "codemirror_mode": {
    "name": "ipython",
    "version": 3
   },
   "file_extension": ".py",
   "mimetype": "text/x-python",
   "name": "python",
   "nbconvert_exporter": "python",
   "pygments_lexer": "ipython3",
   "version": "3.8.8"
  }
 },
 "nbformat": 4,
 "nbformat_minor": 5
}
